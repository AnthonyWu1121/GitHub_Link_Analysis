{
 "cells": [
  {
   "cell_type": "code",
   "execution_count": 2,
   "metadata": {},
   "outputs": [],
   "source": [
    "import json\n",
    "import os\n",
    "import numpy as np\n",
    "import networkx as nx\n",
    "from networkx.algorithms import bipartite\n",
    "import sknetwork as skn\n",
    "from collections import Counter"
   ]
  },
  {
   "cell_type": "code",
   "execution_count": 3,
   "metadata": {},
   "outputs": [
    {
     "data": {
      "text/plain": [
       "100"
      ]
     },
     "execution_count": 3,
     "metadata": {},
     "output_type": "execute_result"
    }
   ],
   "source": [
    "repos = os.listdir('repo_info')\n",
    "repos.extend(os.listdir('repo_info2'))\n",
    "for file in repos:\n",
    "    if not file.endswith('.json'):\n",
    "        repos.remove(file)\n",
    "    if file == '00_repo_names.json':\n",
    "        repos.remove(file)\n",
    "\n",
    "repos = list(map(lambda x : x.replace(\".json\", ''), repos))\n",
    "len(repos)"
   ]
  },
  {
   "cell_type": "code",
   "execution_count": 4,
   "metadata": {},
   "outputs": [
    {
     "data": {
      "text/plain": [
       "100"
      ]
     },
     "execution_count": 4,
     "metadata": {},
     "output_type": "execute_result"
    }
   ],
   "source": [
    "starer_path = 'new_starer_info'\n",
    "starers_file = os.listdir(starer_path)\n",
    "\n",
    "len(starers_file)"
   ]
  },
  {
   "cell_type": "code",
   "execution_count": 5,
   "metadata": {},
   "outputs": [
    {
     "name": "stdout",
     "output_type": "stream",
     "text": [
      "100-Days-Of-ML-Code\n",
      "100-Days-Of-ML-Code_2\n",
      "500-AI-Machine-learning-Deep-learning-Computer-vision-NLP-Projects-with-code\n",
      "AI-Expert-Roadmap\n",
      "AI-For-Beginners\n",
      "annotated_deep_learning_paper_implementations\n",
      "applied-ml\n",
      "awesome-datascience\n",
      "awesome-deep-learning-papers\n",
      "awesome-deep-learning\n",
      "awesome-nlp\n",
      "awesome-production-machine-learning\n",
      "Awesome-pytorch-list\n",
      "best-of-ml-python\n",
      "caffe\n",
      "cheatsheets-ai\n",
      "CLIP\n",
      "CNTK\n",
      "ColossalAI\n",
      "cs-video-courses\n",
      "CVPR2024-Papers-with-Code\n",
      "d2l-en\n",
      "d2l-zh\n",
      "data-science-ipython-notebooks\n",
      "datasets\n",
      "deep-learning-for-image-processing\n",
      "Deep-Learning-Papers-Reading-Roadmap\n",
      "DeepFaceLab\n",
      "DeepSpeech\n",
      "DeepSpeed\n",
      "diffusers\n",
      "Dive-into-DL-PyTorch\n",
      "EasyOCR\n",
      "faceswap\n",
      "fastai\n",
      "fastbook\n",
      "first-order-model\n",
      "GFPGAN\n",
      "gradio\n",
      "handson-ml\n",
      "horovod\n",
      "imgaug\n",
      "ivy\n",
      "JARVIS\n",
      "jina\n",
      "keras\n",
      "label-studio\n",
      "labelImg\n",
      "learnopencv\n",
      "lectures\n",
      "machine-learning-for-software-engineers\n",
      "Machine-Learning-Tutorials\n",
      "Made-With-ML\n",
      "mediapipe\n",
      "ml-agents\n",
      "ML-From-Scratch\n",
      "ML-NLP\n",
      "ML-YouTube-Courses\n",
      "MockingBird\n",
      "ncnn\n",
      "netron\n",
      "onnx\n",
      "opencv\n",
      "openface\n",
      "openpose\n",
      "Paddle\n",
      "paper-reading\n",
      "Prompt-Engineering-Guide\n",
      "pytorch-CycleGAN-and-pix2pix\n",
      "pytorch-handbook\n",
      "pytorch-lightning\n",
      "pytorch-tutorial\n",
      "pytorch\n",
      "pytorch_geometric\n",
      "Qix\n",
      "qlib\n",
      "ray\n",
      "Real-Time-Voice-Cloning\n",
      "recommenders\n",
      "Screenshot-to-code\n",
      "shap\n",
      "so-vits-svc\n",
      "spaCy\n",
      "spleeter\n",
      "stable-diffusion-webui-colab\n",
      "stable-diffusion-webui\n",
      "stanford-cs-229-machine-learning\n",
      "stanford_alpaca\n",
      "streamlit\n",
      "supervision\n",
      "tensor2tensor\n",
      "TensorFlow-Course\n",
      "TensorFlow-Examples\n",
      "tensorflow\n",
      "tesseract.js\n",
      "tfjs\n",
      "transformers\n",
      "TTS\n",
      "ultralytics\n",
      "yolov5\n"
     ]
    }
   ],
   "source": [
    "edges = []\n",
    "users = set()\n",
    "for fileName in starers_file:\n",
    "    with open(starer_path + '/' + fileName, 'r') as f:\n",
    "        data = json.load(f)\n",
    "        fileName = fileName.replace('.json', '')\n",
    "        print(fileName)\n",
    "\n",
    "        for user in data:\n",
    "            id = user['username']\n",
    "            edges.append((id, fileName))\n",
    "            if fileName not in repos:\n",
    "                print(fileName)\n",
    "                print(id)\n",
    "            users.add(id)"
   ]
  },
  {
   "cell_type": "code",
   "execution_count": 6,
   "metadata": {},
   "outputs": [
    {
     "data": {
      "text/plain": [
       "1022491"
      ]
     },
     "execution_count": 6,
     "metadata": {},
     "output_type": "execute_result"
    }
   ],
   "source": [
    "len(users)"
   ]
  },
  {
   "cell_type": "code",
   "execution_count": 7,
   "metadata": {},
   "outputs": [],
   "source": [
    "B = nx.Graph()\n",
    "\n",
    "B.add_nodes_from(repos, bipartite=0)\n",
    "B.add_nodes_from(users, bipartite=1)\n",
    "\n",
    "B.add_edges_from(edges)"
   ]
  },
  {
   "cell_type": "code",
   "execution_count": 8,
   "metadata": {},
   "outputs": [
    {
     "name": "stdout",
     "output_type": "stream",
     "text": [
      "610224\n"
     ]
    }
   ],
   "source": [
    "nodes_to_remove = [node for node, degree in B.degree() if degree <= 1]\n",
    "print(len(nodes_to_remove))\n",
    "B.remove_nodes_from(nodes_to_remove)"
   ]
  },
  {
   "cell_type": "code",
   "execution_count": 9,
   "metadata": {},
   "outputs": [],
   "source": [
    "degX, degY = bipartite.degrees(B, repos)"
   ]
  },
  {
   "cell_type": "code",
   "execution_count": 10,
   "metadata": {},
   "outputs": [
    {
     "data": {
      "text/plain": [
       "Counter({2: 170785,\n",
       "         3: 78828,\n",
       "         5: 28613,\n",
       "         7: 13716,\n",
       "         8: 10254,\n",
       "         4: 44779,\n",
       "         6: 19534,\n",
       "         32: 222,\n",
       "         11: 4936,\n",
       "         9: 7851,\n",
       "         15: 2156,\n",
       "         14: 2684,\n",
       "         23: 653,\n",
       "         12: 3846,\n",
       "         29: 314,\n",
       "         13: 3259,\n",
       "         10: 6002,\n",
       "         16: 1809,\n",
       "         31: 253,\n",
       "         25: 542,\n",
       "         17: 1573,\n",
       "         20: 954,\n",
       "         19: 1203,\n",
       "         18: 1350,\n",
       "         24: 608,\n",
       "         21: 883,\n",
       "         39: 101,\n",
       "         46: 57,\n",
       "         59: 23,\n",
       "         28: 351,\n",
       "         47: 63,\n",
       "         30: 288,\n",
       "         22: 805,\n",
       "         37: 138,\n",
       "         41: 83,\n",
       "         26: 476,\n",
       "         35: 175,\n",
       "         36: 153,\n",
       "         38: 127,\n",
       "         27: 412,\n",
       "         50: 43,\n",
       "         74: 7,\n",
       "         34: 180,\n",
       "         40: 106,\n",
       "         33: 198,\n",
       "         44: 67,\n",
       "         43: 86,\n",
       "         55: 34,\n",
       "         73: 6,\n",
       "         45: 63,\n",
       "         60: 23,\n",
       "         53: 39,\n",
       "         48: 47,\n",
       "         72: 10,\n",
       "         52: 33,\n",
       "         54: 33,\n",
       "         42: 87,\n",
       "         70: 15,\n",
       "         63: 10,\n",
       "         67: 15,\n",
       "         66: 11,\n",
       "         64: 16,\n",
       "         49: 38,\n",
       "         78: 4,\n",
       "         81: 3,\n",
       "         80: 5,\n",
       "         82: 4,\n",
       "         51: 36,\n",
       "         68: 7,\n",
       "         58: 27,\n",
       "         56: 20,\n",
       "         62: 15,\n",
       "         75: 8,\n",
       "         85: 2,\n",
       "         69: 10,\n",
       "         57: 25,\n",
       "         79: 5,\n",
       "         61: 17,\n",
       "         71: 12,\n",
       "         76: 5,\n",
       "         91: 1,\n",
       "         65: 9,\n",
       "         88: 5,\n",
       "         92: 2,\n",
       "         87: 3,\n",
       "         95: 1,\n",
       "         77: 4,\n",
       "         89: 2,\n",
       "         97: 1,\n",
       "         86: 2,\n",
       "         83: 2,\n",
       "         100: 1,\n",
       "         84: 2})"
      ]
     },
     "execution_count": 10,
     "metadata": {},
     "output_type": "execute_result"
    }
   ],
   "source": [
    "Counter(dict(degX).values())  # degree of users"
   ]
  },
  {
   "cell_type": "code",
   "execution_count": 11,
   "metadata": {},
   "outputs": [
    {
     "data": {
      "text/plain": [
       "Counter({19469: 1,\n",
       "         28850: 1,\n",
       "         12262: 1,\n",
       "         10609: 1,\n",
       "         22240: 1,\n",
       "         16086: 1,\n",
       "         26584: 1,\n",
       "         14648: 1,\n",
       "         23664: 1,\n",
       "         19908: 1,\n",
       "         31409: 1,\n",
       "         8403: 1,\n",
       "         18849: 1,\n",
       "         9118: 1,\n",
       "         24603: 1,\n",
       "         13643: 1,\n",
       "         12665: 1,\n",
       "         21419: 1,\n",
       "         28979: 1,\n",
       "         14972: 2,\n",
       "         32842: 1,\n",
       "         10693: 1,\n",
       "         22720: 1,\n",
       "         17888: 1,\n",
       "         23718: 1,\n",
       "         14032: 1,\n",
       "         29011: 1,\n",
       "         17309: 1,\n",
       "         24523: 1,\n",
       "         12652: 1,\n",
       "         16399: 1,\n",
       "         18933: 1,\n",
       "         12182: 1,\n",
       "         16596: 1,\n",
       "         12803: 1,\n",
       "         12352: 1,\n",
       "         22099: 1,\n",
       "         17162: 1,\n",
       "         15977: 1,\n",
       "         33804: 1,\n",
       "         21096: 1,\n",
       "         29883: 1,\n",
       "         21934: 1,\n",
       "         27985: 1,\n",
       "         15730: 1,\n",
       "         19362: 1,\n",
       "         13072: 1,\n",
       "         12775: 1,\n",
       "         12422: 1,\n",
       "         19587: 1,\n",
       "         13413: 1,\n",
       "         23969: 1,\n",
       "         19247: 1,\n",
       "         32619: 1,\n",
       "         17555: 1,\n",
       "         14395: 1,\n",
       "         10953: 1,\n",
       "         27719: 1,\n",
       "         22875: 1,\n",
       "         18149: 1,\n",
       "         17486: 1,\n",
       "         13874: 2,\n",
       "         13232: 1,\n",
       "         27466: 1,\n",
       "         28828: 1,\n",
       "         30929: 1,\n",
       "         10537: 1,\n",
       "         23193: 1,\n",
       "         10723: 1,\n",
       "         14859: 1,\n",
       "         13402: 1,\n",
       "         15908: 1,\n",
       "         10734: 1,\n",
       "         11585: 1,\n",
       "         22103: 1,\n",
       "         14730: 1,\n",
       "         17248: 1,\n",
       "         12620: 1,\n",
       "         14970: 1,\n",
       "         17587: 1,\n",
       "         32883: 1,\n",
       "         15230: 1,\n",
       "         17709: 1,\n",
       "         15604: 1,\n",
       "         20583: 1,\n",
       "         18794: 1,\n",
       "         10822: 1,\n",
       "         27686: 1,\n",
       "         17010: 1,\n",
       "         29570: 1,\n",
       "         23346: 1,\n",
       "         14288: 1,\n",
       "         25643: 1,\n",
       "         26755: 1,\n",
       "         29382: 1,\n",
       "         24878: 1,\n",
       "         10767: 1,\n",
       "         20302: 1})"
      ]
     },
     "execution_count": 11,
     "metadata": {},
     "output_type": "execute_result"
    }
   ],
   "source": [
    "Counter(dict(degY).values())  # degree of repos"
   ]
  },
  {
   "cell_type": "code",
   "execution_count": 12,
   "metadata": {},
   "outputs": [],
   "source": [
    "A = bipartite.biadjacency_matrix(B, repos)"
   ]
  },
  {
   "cell_type": "code",
   "execution_count": 13,
   "metadata": {},
   "outputs": [
    {
     "data": {
      "text/plain": [
       "<100x412266 sparse array of type '<class 'numpy.intc'>'\n",
       "\twith 1908925 stored elements in Compressed Sparse Row format>"
      ]
     },
     "execution_count": 13,
     "metadata": {},
     "output_type": "execute_result"
    }
   ],
   "source": [
    "A"
   ]
  },
  {
   "cell_type": "code",
   "execution_count": 14,
   "metadata": {},
   "outputs": [],
   "source": [
    "with open('adjacency_matrix.json', 'w+') as f:\n",
    "    json.dump(A.todense().tolist(), f)"
   ]
  },
  {
   "cell_type": "code",
   "execution_count": 15,
   "metadata": {},
   "outputs": [],
   "source": [
    "with open('repos.json', 'w+') as f:\n",
    "    json.dump(repos, f)"
   ]
  },
  {
   "cell_type": "code",
   "execution_count": 16,
   "metadata": {},
   "outputs": [],
   "source": [
    "with open('users.json', 'w+') as f:\n",
    "    json.dump(list(users), f)"
   ]
  }
 ],
 "metadata": {
  "kernelspec": {
   "display_name": "Python 3",
   "language": "python",
   "name": "python3"
  },
  "language_info": {
   "codemirror_mode": {
    "name": "ipython",
    "version": 3
   },
   "file_extension": ".py",
   "mimetype": "text/x-python",
   "name": "python",
   "nbconvert_exporter": "python",
   "pygments_lexer": "ipython3",
   "version": "3.11.1"
  }
 },
 "nbformat": 4,
 "nbformat_minor": 2
}
