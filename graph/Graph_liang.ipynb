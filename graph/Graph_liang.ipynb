{
  "cells": [
    {
      "cell_type": "code",
      "execution_count": null,
      "metadata": {
        "id": "vnpReyGlPq22"
      },
      "outputs": [],
      "source": [
        "import pandas as pd\n",
        "import numpy as np\n",
        "import matplotlib.pyplot as plt\n",
        "import seaborn as sns\n",
        "import networkx as nx\n",
        "import os\n",
        "import json"
      ]
    },
    {
      "cell_type": "markdown",
      "metadata": {
        "id": "g70AJxHL321F"
      },
      "source": [
        "## Read Node Data"
      ]
    },
    {
      "cell_type": "markdown",
      "metadata": {
        "id": "lqkFICMX374o"
      },
      "source": [
        "### Repo Node"
      ]
    },
    {
      "cell_type": "code",
      "execution_count": null,
      "metadata": {
        "id": "PRii6r7v3VD8"
      },
      "outputs": [],
      "source": [
        "repo_path = '../repo_info'\n",
        "repos = os.listdir(repo_path)"
      ]
    },
    {
      "cell_type": "code",
      "execution_count": null,
      "metadata": {
        "colab": {
          "base_uri": "https://localhost:8080/"
        },
        "collapsed": true,
        "id": "UyipVOfZ_TnX",
        "outputId": "f151410a-9454-4382-90cf-6c52a22f4675"
      },
      "outputs": [
        {
          "data": {
            "text/plain": [
              "['Real-Time-Voice-Cloning.json',\n",
              " 'yolov5.json',\n",
              " 'Made-With-ML.json',\n",
              " 'caffe.json',\n",
              " 'TTS.json',\n",
              " 'stanford_alpaca.json',\n",
              " 'applied-ml.json',\n",
              " 'awesome-deep-learning-papers.json',\n",
              " 'ML-From-Scratch.json',\n",
              " 'opencv.json',\n",
              " 'cs-video-courses.json',\n",
              " '100-Days-Of-ML-Code.json',\n",
              " 'TensorFlow-Examples.json',\n",
              " 'streamlit.json',\n",
              " 'AI-For-Beginners.json',\n",
              " 'machine-learning-for-software-engineers.json',\n",
              " 'pytorch-lightning.json',\n",
              " 'DeepSpeech.json',\n",
              " 'paper-reading.json',\n",
              " 'tensorflow.json',\n",
              " 'annotated_deep_learning_paper_implementations.json',\n",
              " 'GFPGAN.json',\n",
              " 'MockingBird.json',\n",
              " 'pytorch-tutorial.json',\n",
              " 'gradio.json',\n",
              " 'fastai.json',\n",
              " 'mediapipe.json',\n",
              " 'ultralytics.json',\n",
              " 'pytorch.json',\n",
              " 'keras.json',\n",
              " 'Prompt-Engineering-Guide.json',\n",
              " 'ColossalAI.json',\n",
              " 'DeepSpeed.json',\n",
              " 'ray.json',\n",
              " 'AI-Expert-Roadmap.json',\n",
              " 'data-science-ipython-notebooks.json',\n",
              " 'spleeter.json',\n",
              " 'so-vits-svc.json',\n",
              " 'spaCy.json',\n",
              " 'netron.json',\n",
              " 'handson-ml.json',\n",
              " 'awesome-datascience.json',\n",
              " 'openpose.json',\n",
              " 'tesseract.js.json',\n",
              " 'Deep-Learning-Papers-Reading-Roadmap.json',\n",
              " 'DeepFaceLab.json',\n",
              " 'd2l-zh.json',\n",
              " 'transformers.json',\n",
              " 'stable-diffusion-webui.json',\n",
              " 'faceswap.json']"
            ]
          },
          "execution_count": 4,
          "metadata": {},
          "output_type": "execute_result"
        }
      ],
      "source": [
        "repos.remove('.ipynb_checkpoints')\n",
        "repos.remove('00_repo_names.json')\n",
        "repos"
      ]
    },
    {
      "cell_type": "markdown",
      "metadata": {
        "id": "2EC-iLGd4Pkb"
      },
      "source": [
        "### User Node"
      ]
    },
    {
      "cell_type": "code",
      "execution_count": null,
      "metadata": {
        "id": "yyF8KdRf3VBq"
      },
      "outputs": [],
      "source": [
        "user_path = '../starer_info'\n",
        "users_file = os.listdir(user_path)"
      ]
    },
    {
      "cell_type": "code",
      "execution_count": null,
      "metadata": {
        "id": "HMdXZJCa3U_O"
      },
      "outputs": [],
      "source": [
        "edges = []\n",
        "users = set()\n",
        "for fileName in users_file:\n",
        "    with open(user_path + '/' + fileName, 'r') as f:\n",
        "        data = json.load(f)\n",
        "    fileName = fileName[:-5]\n",
        "    #print(fileName)\n",
        "    #break\n",
        "    for user in data:\n",
        "        id = user['username']\n",
        "        #print(id)\n",
        "        #break\n",
        "        edges.append((id, fileName))\n",
        "        users.add(id)\n",
        "\n"
      ]
    },
    {
      "cell_type": "markdown",
      "metadata": {
        "id": "xvquQUCQ7R9g"
      },
      "source": [
        "## Construct Graph"
      ]
    },
    {
      "cell_type": "code",
      "execution_count": null,
      "metadata": {
        "id": "uBFf21XX7Rkc"
      },
      "outputs": [],
      "source": [
        "B = nx.Graph()\n",
        "\n",
        "B.add_nodes_from(repos, bipartite=0)\n",
        "B.add_nodes_from(users, bipartite=1)\n",
        "\n",
        "B.add_edges_from(edges)"
      ]
    },
    {
      "cell_type": "markdown",
      "metadata": {
        "id": "qussOXyNCr-h"
      },
      "source": [
        "## 導出 json 檔案"
      ]
    },
    {
      "cell_type": "code",
      "execution_count": null,
      "metadata": {
        "id": "p1iEphHpCDRy"
      },
      "outputs": [],
      "source": [
        "nodes_to_remove = [node for node, degree in B.degree() if degree <= 1]\n",
        "B.remove_nodes_from(nodes_to_remove)"
      ]
    },
    {
      "cell_type": "code",
      "execution_count": null,
      "metadata": {
        "id": "brLAkBddCDPg"
      },
      "outputs": [],
      "source": [
        "nodes_to_keep = [node for node in B.nodes() if B.nodes[node].get('bipartite') == 1]\n",
        "H = B.subgraph(nodes_to_keep).copy()"
      ]
    },
    {
      "cell_type": "code",
      "execution_count": null,
      "metadata": {
        "id": "uUgLeD_dCDE8"
      },
      "outputs": [],
      "source": [
        "from networkx.readwrite import json_graph\n",
        "\n",
        "data = nx.readwrite.json_graph.node_link_data(H)\n",
        "\n",
        "with open('/content/drive/MyDrive/2024 Spring/Social Network/project/SMA_Final Project/Graph/repo_user.json', 'w') as f:\n",
        "    json.dump(data, f)"
      ]
    },
    {
      "cell_type": "code",
      "execution_count": null,
      "metadata": {
        "colab": {
          "base_uri": "https://localhost:8080/"
        },
        "id": "1rf_FsB0EXIR",
        "outputId": "3b51a457-c636-4802-f7dd-ab42ea46e699"
      },
      "outputs": [
        {
          "name": "stdout",
          "output_type": "stream",
          "text": [
            "['zhengziqiang', 'EmlynLXR', '71come', 'SiwenZss', 'perlitz', 'miciba', 'Vooool', 'clance1', 'chenghanc', 'Felix-Petersen']\n"
          ]
        }
      ],
      "source": [
        "nodes = []\n",
        "for node in H.nodes():\n",
        "    if H.nodes[node].get('bipartite') == 1:\n",
        "        nodes.append(node)\n",
        "#print(nodes[:10])"
      ]
    },
    {
      "cell_type": "code",
      "execution_count": null,
      "metadata": {
        "id": "4b8gkqRaEorI"
      },
      "outputs": [],
      "source": [
        "with open('/content/drive/MyDrive/2024 Spring/Social Network/project/SMA_Final Project/Graph/clean_repo_user.json', 'w') as f:\n",
        "    json.dump(nodes, f)"
      ]
    },
    {
      "cell_type": "markdown",
      "metadata": {
        "id": "ug7b4LbICCvo"
      },
      "source": [
        "## 繪製 Degree Graph"
      ]
    },
    {
      "cell_type": "code",
      "execution_count": null,
      "metadata": {
        "id": "IxrYrYyfcXMK"
      },
      "outputs": [],
      "source": [
        "import matplotlib.pyplot as plt"
      ]
    },
    {
      "cell_type": "code",
      "execution_count": null,
      "metadata": {
        "colab": {
          "base_uri": "https://localhost:8080/",
          "height": 472
        },
        "id": "dSlUyZBA5qWf",
        "outputId": "95dcb75f-4a27-4b3f-8265-345d3cd6f24d"
      },
      "outputs": [
        {
          "data": {
            "image/png": "[encoded data removed]",
            "text/plain": [
              "<Figure size 640x480 with 1 Axes>"
            ]
          },
          "metadata": {},
          "output_type": "display_data"
        }
      ],
      "source": [
        "degrees = [degree for node, degree in B.degree()]\n",
        "\n",
        "plt.hist(degrees, bins=max(degrees) - min(degrees) + 1, edgecolor='black')\n",
        "plt.title('Degree Histogram')\n",
        "plt.xlabel('Degree')\n",
        "plt.ylabel('Number of Nodes')\n",
        "\n",
        "plt.show()"
      ]
    },
    {
      "cell_type": "markdown",
      "metadata": {
        "id": "JUDKDux2dCwR"
      },
      "source": [
        "會有這張圖的原因是因為 max(degrees)是40001，因此大小分布不均勻。"
      ]
    },
    {
      "cell_type": "code",
      "execution_count": null,
      "metadata": {
        "colab": {
          "base_uri": "https://localhost:8080/"
        },
        "id": "HMlpRGgJ5qY7",
        "outputId": "1ed86282-c7a5-4ec4-b8ed-0291293651ef"
      },
      "outputs": [
        {
          "name": "stdout",
          "output_type": "stream",
          "text": [
            "The number of degree in  0 is 50\n",
            "The number of degree in  1 is 512851\n",
            "The number of degree in  2 is 132445\n",
            "The number of degree in  3 is 57388\n",
            "The number of degree in  4 is 30509\n",
            "The number of degree in  5 is 18831\n",
            "The number of degree in  6 is 12128\n",
            "The number of degree in  7 is 8224\n",
            "The number of degree in  8 is 5871\n",
            "The number of degree in  9 is 4394\n",
            "The number of degree in  10 is 3238\n",
            "The number of degree in  11 is 2504\n",
            "The number of degree in  12 is 1981\n",
            "The number of degree in  13 is 1497\n",
            "The number of degree in  14 is 1211\n",
            "The number of degree in  15 is 1076\n",
            "The number of degree in  16 is 827\n",
            "The number of degree in  17 is 671\n",
            "The number of degree in  18 is 540\n",
            "The number of degree in  19 is 452\n",
            "The number of degree in  20 is 352\n",
            "The number of degree in  21 is 306\n",
            "The number of degree in  22 is 245\n",
            "The number of degree in  23 is 223\n",
            "The number of degree in  24 is 183\n",
            "The number of degree in  25 is 170\n",
            "The number of degree in  26 is 127\n",
            "The number of degree in  27 is 113\n",
            "The number of degree in  28 is 105\n",
            "The number of degree in  29 is 86\n",
            "The number of degree in  30 is 77\n",
            "The number of degree in  31 is 65\n",
            "The number of degree in  32 is 55\n",
            "The number of degree in  33 is 44\n",
            "The number of degree in  34 is 35\n",
            "The number of degree in  35 is 40\n",
            "The number of degree in  36 is 25\n",
            "The number of degree in  37 is 27\n",
            "The number of degree in  38 is 24\n",
            "The number of degree in  39 is 20\n",
            "The number of degree in  40 is 14\n",
            "The number of degree in  41 is 13\n",
            "The number of degree in  42 is 12\n",
            "The number of degree in  43 is 4\n",
            "The number of degree in  44 is 8\n",
            "The number of degree in  45 is 5\n",
            "The number of degree in  46 is 5\n",
            "The number of degree in  47 is 2\n",
            "The number of degree in  48 is 3\n",
            "The number of degree in  50 is 3\n",
            "The number of degree in  40000 is 15\n",
            "The number of degree in  40001 is 1\n",
            "The number of degree in  25666 is 1\n",
            "The number of degree in  25155 is 1\n",
            "The number of degree in  29257 is 1\n",
            "The number of degree in  33885 is 1\n",
            "The number of degree in  37997 is 1\n",
            "The number of degree in  24178 is 1\n",
            "The number of degree in  27770 is 1\n",
            "The number of degree in  31368 is 1\n",
            "The number of degree in  26262 is 1\n",
            "The number of degree in  33960 is 1\n",
            "The number of degree in  28842 is 1\n",
            "The number of degree in  23217 is 1\n",
            "The number of degree in  32960 is 1\n",
            "The number of degree in  28882 is 1\n",
            "The number of degree in  29969 is 1\n",
            "The number of degree in  32020 is 1\n",
            "The number of degree in  31515 is 1\n",
            "The number of degree in  23837 is 1\n",
            "The number of degree in  25093 is 1\n",
            "The number of degree in  24366 is 1\n",
            "The number of degree in  37409 is 1\n",
            "The number of degree in  24389 is 1\n",
            "The number of degree in  25609 is 1\n",
            "The number of degree in  28498 is 1\n",
            "The number of degree in  23422 is 1\n",
            "The number of degree in  34704 is 1\n",
            "The number of degree in  27028 is 1\n",
            "The number of degree in  29185 is 1\n",
            "The number of degree in  33697 is 1\n",
            "The number of degree in  26534 is 1\n",
            "The number of degree in  25008 is 1\n",
            "The number of degree in  26038 is 1\n",
            "The number of degree in  29709 is 1\n",
            "The number of degree in  35812 is 1\n"
          ]
        }
      ],
      "source": [
        "degree_set = set(degrees)\n",
        "for i in degree_set:\n",
        "    print(\"The number of degree in \",i, 'is', degrees.count(i))"
      ]
    },
    {
      "cell_type": "markdown",
      "metadata": {
        "id": "i4DnE261eAD6"
      },
      "source": [
        "Degree 是 1 的點佔據的數量超過50%，甚至可以說大部分都是 1 degree的點，後續要考慮怎麼處理。"
      ]
    },
    {
      "cell_type": "code",
      "execution_count": null,
      "metadata": {
        "id": "TaLQv1e85qbf"
      },
      "outputs": [],
      "source": []
    },
    {
      "cell_type": "code",
      "execution_count": null,
      "metadata": {
        "id": "UN1S905J5qdp"
      },
      "outputs": [],
      "source": []
    },
    {
      "cell_type": "code",
      "execution_count": null,
      "metadata": {
        "id": "RJpqX_VG5qf1"
      },
      "outputs": [],
      "source": []
    }
  ],
  "metadata": {
    "colab": {
      "provenance": []
    },
    "kernelspec": {
      "display_name": "Python 3",
      "name": "python3"
    },
    "language_info": {
      "name": "python"
    }
  },
  "nbformat": 4,
  "nbformat_minor": 0
}
