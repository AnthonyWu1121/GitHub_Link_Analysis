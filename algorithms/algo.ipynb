{
 "cells": [
  {
   "cell_type": "code",
   "execution_count": 89,
   "metadata": {},
   "outputs": [],
   "source": [
    "import numpy as np\n",
    "import pandas as pd\n",
    "import networkx as nx\n",
    "import os\n",
    "import json\n",
    "from networkx.algorithms import bipartite"
   ]
  },
  {
   "cell_type": "markdown",
   "metadata": {},
   "source": [
    "### Read Graph"
   ]
  },
  {
   "cell_type": "code",
   "execution_count": 90,
   "metadata": {},
   "outputs": [],
   "source": [
    "repo_path = '../repo_info'\n",
    "repos = os.listdir(repo_path)\n",
    "repos.remove('00_repo_names.json')\n",
    "user_path = '../starer_info'\n",
    "users_file = os.listdir(user_path)"
   ]
  },
  {
   "cell_type": "code",
   "execution_count": 91,
   "metadata": {},
   "outputs": [],
   "source": [
    "edges = []\n",
    "users = set()\n",
    "for fileName in users_file:\n",
    "    with open(user_path + '/' + fileName, 'r') as f:\n",
    "        data = json.load(f)\n",
    "    for user in data:\n",
    "        id = user['username']\n",
    "        edges.append((id, fileName))\n",
    "        users.add(id)"
   ]
  },
  {
   "cell_type": "code",
   "execution_count": 152,
   "metadata": {},
   "outputs": [],
   "source": [
    "B = nx.Graph()\n",
    "\n",
    "B.add_nodes_from(users, bipartite='hub')\n",
    "B.add_nodes_from(repos, bipartite='authority')\n",
    "\n",
    "B.add_edges_from(edges)"
   ]
  },
  {
   "cell_type": "code",
   "execution_count": 143,
   "metadata": {},
   "outputs": [
    {
     "name": "stdout",
     "output_type": "stream",
     "text": [
      "Number of users: 799030\n",
      "Number of repos: 50\n"
     ]
    }
   ],
   "source": [
    "hubs = {n for n, d in B.nodes(data=True) if d['bipartite'] == 'hub'}\n",
    "authorities = {n for n, d in B.nodes(data=True) if d['bipartite'] == 'authority'}\n",
    "print(\"Number of users:\", len(hubs))\n",
    "print(\"Number of repos:\", len(authorities))"
   ]
  },
  {
   "cell_type": "markdown",
   "metadata": {},
   "source": [
    "### Remove 1-degree nodes"
   ]
  },
  {
   "cell_type": "code",
   "execution_count": 94,
   "metadata": {},
   "outputs": [],
   "source": [
    "nodes_to_remove = [node for node, degree in B.degree() if degree <= 1]\n",
    "B.remove_nodes_from(nodes_to_remove)"
   ]
  },
  {
   "cell_type": "code",
   "execution_count": 95,
   "metadata": {},
   "outputs": [
    {
     "name": "stdout",
     "output_type": "stream",
     "text": [
      "Number of users: 286178\n",
      "Number of repos: 50\n"
     ]
    }
   ],
   "source": [
    "hubs = {n for n, d in B.nodes(data=True) if d['bipartite'] == 'hub'}\n",
    "authorities = {n for n, d in B.nodes(data=True) if d['bipartite'] == 'authority'}\n",
    "print(\"Number of users:\", len(hubs))\n",
    "print(\"Number of repos:\", len(authorities))"
   ]
  },
  {
   "cell_type": "markdown",
   "metadata": {},
   "source": [
    "### HITS Algorithm"
   ]
  },
  {
   "cell_type": "code",
   "execution_count": 148,
   "metadata": {},
   "outputs": [],
   "source": [
    "def normalize(score):\n",
    "    total = sum(score.values())\n",
    "    return {k: v / total for k, v in score.items()}"
   ]
  },
  {
   "cell_type": "code",
   "execution_count": 149,
   "metadata": {},
   "outputs": [],
   "source": [
    "def hits(G, h_init=None, a_init=None, max_iter=100, threshold=1.0e-8, normalized=True):\n",
    "    # check if proper graph\n",
    "    if isinstance(G, nx.MultiGraph | nx.MultiDiGraph):\n",
    "        raise Exception(\"hits() not defined for graphs with multiedges.\")\n",
    "    if len(G) == 0:\n",
    "        return {}, {}\n",
    "    \n",
    "    # create dictionary for hubs and authorities\n",
    "    hubs = {n for n, d in G.nodes(data=True) if d['bipartite'] == 'hub'}\n",
    "    authorities = {n for n, d in G.nodes(data=True) if d['bipartite'] == 'authority'}\n",
    "    \n",
    "    # initialize score for each node, else equal\n",
    "    if h_init is None:\n",
    "        hub_score = dict.fromkeys(hubs, 1.0 / len(hubs))\n",
    "    else:\n",
    "        hub_score = h_init\n",
    "        hub_score = normalize(hub_score)\n",
    "    if a_init is None:\n",
    "        authority_score = dict.fromkeys(authorities, 1.0 / len(authorities))\n",
    "    else:\n",
    "        authority_score = a_init\n",
    "        authority_score = normalize(authority_score)\n",
    "    # calculate score iteratively\n",
    "    for _ in range(max_iter):  # power iteration: make up to max_iter iterations\n",
    "        hlast = hub_score\n",
    "        alast = authority_score\n",
    "        \n",
    "        authority_score = dict.fromkeys(authorities, 0)\n",
    "        for h in hubs:\n",
    "            for nbr in G[h]:\n",
    "                authority_score[nbr] += hub_score[h]\n",
    "        authority_score = normalize(authority_score)\n",
    "\n",
    "        hub_score = dict.fromkeys(hubs, 0)\n",
    "        for a in authorities:\n",
    "            for nbr in G[a]:\n",
    "                hub_score[nbr] += authority_score[a]\n",
    "        hub_score = normalize(hub_score)\n",
    "        \n",
    "        err = sum(abs(hub_score[n] - hlast[n]) for n in hubs) + sum(abs(authority_score[n] - alast[n]) for n in authorities)\n",
    "        if err < threshold:\n",
    "            break\n",
    "    return hub_score, authority_score"
   ]
  },
  {
   "cell_type": "code",
   "execution_count": 153,
   "metadata": {},
   "outputs": [],
   "source": [
    "hub_score, authority_score = hits(B)"
   ]
  }
 ],
 "metadata": {
  "kernelspec": {
   "display_name": "Python 3",
   "language": "python",
   "name": "python3"
  },
  "language_info": {
   "codemirror_mode": {
    "name": "ipython",
    "version": 3
   },
   "file_extension": ".py",
   "mimetype": "text/x-python",
   "name": "python",
   "nbconvert_exporter": "python",
   "pygments_lexer": "ipython3",
   "version": "3.11.5"
  }
 },
 "nbformat": 4,
 "nbformat_minor": 2
}
