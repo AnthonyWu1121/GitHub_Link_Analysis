{
 "cells": [
  {
   "cell_type": "code",
   "execution_count": 1,
   "metadata": {},
   "outputs": [],
   "source": [
    "import json\n",
    "import os\n",
    "import numpy as np\n",
    "import networkx as nx\n",
    "from networkx.algorithms import bipartite\n",
    "import sknetwork as skn\n",
    "from collections import Counter\n",
    "import scipy\n",
    "from sknetwork.clustering import get_modularity"
   ]
  },
  {
   "cell_type": "code",
   "execution_count": 7,
   "metadata": {},
   "outputs": [
    {
     "data": {
      "text/plain": [
       "100"
      ]
     },
     "execution_count": 7,
     "metadata": {},
     "output_type": "execute_result"
    }
   ],
   "source": [
    "repos = []\n",
    "with open('repos.json', 'r') as f:\n",
    "    repos = json.load(f)\n",
    "\n",
    "len(repos)"
   ]
  },
  {
   "cell_type": "code",
   "execution_count": 8,
   "metadata": {},
   "outputs": [
    {
     "data": {
      "text/plain": [
       "1022491"
      ]
     },
     "execution_count": 8,
     "metadata": {},
     "output_type": "execute_result"
    }
   ],
   "source": [
    "users = []\n",
    "with open('users.json', 'r') as f:\n",
    "    users = json.load(f)\n",
    "\n",
    "len(users)"
   ]
  },
  {
   "cell_type": "code",
   "execution_count": 2,
   "metadata": {},
   "outputs": [
    {
     "data": {
      "text/plain": [
       "<100x412266 sparse matrix of type '<class 'numpy.intc'>'\n",
       "\twith 1908925 stored elements in Compressed Sparse Row format>"
      ]
     },
     "execution_count": 2,
     "metadata": {},
     "output_type": "execute_result"
    }
   ],
   "source": [
    "adjacency_matrix = {}\n",
    "with open('adjacency_matrix.json', 'r') as f:\n",
    "    adjacency_matrix = json.load(f)\n",
    "adjacency = scipy.sparse.csr_matrix(adjacency_matrix)\n",
    "adjacency"
   ]
  },
  {
   "cell_type": "code",
   "execution_count": 3,
   "metadata": {},
   "outputs": [],
   "source": [
    "B = bipartite.from_biadjacency_matrix(adjacency)"
   ]
  },
  {
   "cell_type": "code",
   "execution_count": 48,
   "metadata": {},
   "outputs": [],
   "source": [
    "userAdj = adjacency.transpose()"
   ]
  },
  {
   "cell_type": "code",
   "execution_count": 49,
   "metadata": {},
   "outputs": [
    {
     "data": {
      "text/plain": [
       "(9, 9)"
      ]
     },
     "execution_count": 49,
     "metadata": {},
     "output_type": "execute_result"
    }
   ],
   "source": [
    "from sknetwork.clustering import Louvain\n",
    "\n",
    "louvain = Louvain(random_state=42)\n",
    "louvain.fit(userAdj, force_bipartite=True)\n",
    "\n",
    "repoLabels_Louvain = louvain.labels_row_\n",
    "userLabels_Louvain = louvain.labels_col_\n",
    "\n",
    "len(set(repoLabels_Louvain)), len(set(userLabels_Louvain))"
   ]
  },
  {
   "cell_type": "markdown",
   "metadata": {},
   "source": [
    "## Louvain"
   ]
  },
  {
   "cell_type": "code",
   "execution_count": 50,
   "metadata": {},
   "outputs": [
    {
     "data": {
      "text/plain": [
       "(11, 11)"
      ]
     },
     "execution_count": 50,
     "metadata": {},
     "output_type": "execute_result"
    }
   ],
   "source": [
    "from sknetwork.clustering import Louvain\n",
    "\n",
    "louvain = Louvain(random_state=42)\n",
    "louvain.fit(adjacency, force_bipartite=True)\n",
    "\n",
    "repoLabels_Louvain = louvain.labels_row_\n",
    "userLabels_Louvain = louvain.labels_col_\n",
    "\n",
    "len(set(repoLabels_Louvain)), len(set(userLabels_Louvain))"
   ]
  },
  {
   "cell_type": "code",
   "execution_count": 51,
   "metadata": {},
   "outputs": [
    {
     "data": {
      "text/plain": [
       "Counter({8: 5,\n",
       "         1: 12,\n",
       "         0: 19,\n",
       "         2: 12,\n",
       "         5: 9,\n",
       "         3: 15,\n",
       "         9: 2,\n",
       "         6: 8,\n",
       "         4: 10,\n",
       "         7: 7,\n",
       "         10: 1})"
      ]
     },
     "execution_count": 51,
     "metadata": {},
     "output_type": "execute_result"
    }
   ],
   "source": [
    "Counter(repoLabels_Louvain)"
   ]
  },
  {
   "cell_type": "code",
   "execution_count": 41,
   "metadata": {},
   "outputs": [
    {
     "data": {
      "text/plain": [
       "100"
      ]
     },
     "execution_count": 41,
     "metadata": {},
     "output_type": "execute_result"
    }
   ],
   "source": [
    "repoNameLabel_Louvain = {}\n",
    "\n",
    "for repo, label in zip(repos, repoLabels_Louvain):\n",
    "    repoNameLabel_Louvain[repo] = label\n",
    "\n",
    "len(repoNameLabel_Louvain)"
   ]
  },
  {
   "cell_type": "code",
   "execution_count": 44,
   "metadata": {},
   "outputs": [
    {
     "data": {
      "text/plain": [
       "11"
      ]
     },
     "execution_count": 44,
     "metadata": {},
     "output_type": "execute_result"
    }
   ],
   "source": [
    "labelRepoName_Louvain = {}\n",
    "for l in set(repoLabels_Louvain):\n",
    "    labelRepoName_Louvain[l] = []\n",
    "\n",
    "for repo, label in zip(repos, repoLabels_Louvain):\n",
    "    labelRepoName_Louvain[label].append(repo)\n",
    "\n",
    "len(labelRepoName_Louvain)"
   ]
  },
  {
   "cell_type": "code",
   "execution_count": 45,
   "metadata": {},
   "outputs": [
    {
     "data": {
      "text/plain": [
       "{0: ['AI-For-Beginners',\n",
       "  'ColossalAI',\n",
       "  'data-science-ipython-notebooks',\n",
       "  'DeepSpeed',\n",
       "  'GFPGAN',\n",
       "  'MockingBird',\n",
       "  'Prompt-Engineering-Guide',\n",
       "  'so-vits-svc',\n",
       "  'stable-diffusion-webui',\n",
       "  'stanford_alpaca',\n",
       "  'TTS',\n",
       "  'awesome-production-machine-learning',\n",
       "  'CLIP',\n",
       "  'diffusers',\n",
       "  'pytorch_geometric',\n",
       "  'qlib',\n",
       "  'stable-diffusion-webui-colab',\n",
       "  'supervision',\n",
       "  'tfjs'],\n",
       " 1: ['AI-Expert-Roadmap',\n",
       "  'applied-ml',\n",
       "  'machine-learning-for-software-engineers',\n",
       "  'Made-With-ML',\n",
       "  'ML-From-Scratch',\n",
       "  '500-AI-Machine-learning-Deep-learning-Computer-vision-NLP-Projects-with-code',\n",
       "  'awesome-deep-learning',\n",
       "  'best-of-ml-python',\n",
       "  'd2l-en',\n",
       "  'Machine-Learning-Tutorials',\n",
       "  'ML-YouTube-Courses',\n",
       "  'stanford-cs-229-machine-learning'],\n",
       " 2: ['annotated_deep_learning_paper_implementations',\n",
       "  'd2l-zh',\n",
       "  'paper-reading',\n",
       "  'ultralytics',\n",
       "  'yolov5',\n",
       "  'Awesome-pytorch-list',\n",
       "  'CVPR2024-Papers-with-Code',\n",
       "  'deep-learning-for-image-processing',\n",
       "  'Dive-into-DL-PyTorch',\n",
       "  'learnopencv',\n",
       "  'ML-NLP',\n",
       "  'pytorch-handbook'],\n",
       " 3: ['awesome-deep-learning-papers',\n",
       "  'caffe',\n",
       "  'cs-video-courses',\n",
       "  'Deep-Learning-Papers-Reading-Roadmap',\n",
       "  'handson-ml',\n",
       "  'keras',\n",
       "  'opencv',\n",
       "  'pytorch-tutorial',\n",
       "  'pytorch',\n",
       "  'TensorFlow-Examples',\n",
       "  'tensorflow',\n",
       "  'CNTK',\n",
       "  'lectures',\n",
       "  'openface',\n",
       "  'Qix'],\n",
       " 4: ['mediapipe',\n",
       "  'netron',\n",
       "  'openpose',\n",
       "  'pytorch-lightning',\n",
       "  'first-order-model',\n",
       "  'imgaug',\n",
       "  'labelImg',\n",
       "  'ncnn',\n",
       "  'onnx',\n",
       "  'pytorch-CycleGAN-and-pix2pix'],\n",
       " 5: ['awesome-datascience',\n",
       "  'DeepFaceLab',\n",
       "  'DeepSpeech',\n",
       "  'faceswap',\n",
       "  'Real-Time-Voice-Cloning',\n",
       "  'tesseract.js',\n",
       "  'cheatsheets-ai',\n",
       "  'EasyOCR',\n",
       "  'Screenshot-to-code'],\n",
       " 6: ['gradio',\n",
       "  'ray',\n",
       "  'spleeter',\n",
       "  'streamlit',\n",
       "  'datasets',\n",
       "  'ivy',\n",
       "  'jina',\n",
       "  'label-studio'],\n",
       " 7: ['spaCy',\n",
       "  'transformers',\n",
       "  'awesome-nlp',\n",
       "  'horovod',\n",
       "  'Paddle',\n",
       "  'shap',\n",
       "  'tensor2tensor'],\n",
       " 8: ['100-Days-Of-ML-Code',\n",
       "  '100-Days-Of-ML-Code_2',\n",
       "  'JARVIS',\n",
       "  'ml-agents',\n",
       "  'TensorFlow-Course'],\n",
       " 9: ['fastai', 'fastbook'],\n",
       " 10: ['recommenders']}"
      ]
     },
     "execution_count": 45,
     "metadata": {},
     "output_type": "execute_result"
    }
   ],
   "source": [
    "labelRepoName_Louvain"
   ]
  },
  {
   "cell_type": "code",
   "execution_count": 47,
   "metadata": {},
   "outputs": [
    {
     "data": {
      "text/plain": [
       "0.27046261697075363"
      ]
     },
     "execution_count": 47,
     "metadata": {},
     "output_type": "execute_result"
    }
   ],
   "source": [
    "get_modularity(input_matrix=adjacency, labels=repoLabels_Louvain, labels_col=userLabels_Louvain)"
   ]
  },
  {
   "cell_type": "markdown",
   "metadata": {},
   "source": [
    "## Leiden"
   ]
  },
  {
   "cell_type": "code",
   "execution_count": 72,
   "metadata": {},
   "outputs": [
    {
     "data": {
      "text/plain": [
       "(11, 11)"
      ]
     },
     "execution_count": 72,
     "metadata": {},
     "output_type": "execute_result"
    }
   ],
   "source": [
    "from sknetwork.clustering import Leiden\n",
    "\n",
    "leiden = Leiden(random_state=42)\n",
    "leiden.fit(adjacency, force_bipartite=True)\n",
    "\n",
    "repoLabels_Leiden = leiden.labels_row_\n",
    "userLabels_Leiden = leiden.labels_col_\n",
    "\n",
    "len(set(repoLabels_Leiden)), len(set(userLabels_Leiden))"
   ]
  },
  {
   "cell_type": "code",
   "execution_count": 53,
   "metadata": {},
   "outputs": [
    {
     "data": {
      "text/plain": [
       "Counter({7: 3, 3: 13, 0: 17, 2: 13, 1: 17, 4: 13, 9: 2, 5: 13, 6: 7, 8: 2})"
      ]
     },
     "execution_count": 53,
     "metadata": {},
     "output_type": "execute_result"
    }
   ],
   "source": [
    "Counter(repoLabels_Leiden)"
   ]
  },
  {
   "cell_type": "code",
   "execution_count": 54,
   "metadata": {},
   "outputs": [
    {
     "data": {
      "text/plain": [
       "100"
      ]
     },
     "execution_count": 54,
     "metadata": {},
     "output_type": "execute_result"
    }
   ],
   "source": [
    "repoNameLabel_Leiden = {}\n",
    "\n",
    "for repo, label in zip(repos, repoLabels_Leiden):\n",
    "    repoNameLabel_Leiden[repo] = label\n",
    "\n",
    "len(repoNameLabel_Leiden)"
   ]
  },
  {
   "cell_type": "code",
   "execution_count": 55,
   "metadata": {},
   "outputs": [
    {
     "data": {
      "text/plain": [
       "10"
      ]
     },
     "execution_count": 55,
     "metadata": {},
     "output_type": "execute_result"
    }
   ],
   "source": [
    "labelRepoName_Leiden = {}\n",
    "for l in set(repoLabels_Leiden):\n",
    "    labelRepoName_Leiden[l] = []\n",
    "\n",
    "for repo, label in zip(repos, repoLabels_Leiden):\n",
    "    labelRepoName_Leiden[label].append(repo)\n",
    "\n",
    "len(labelRepoName_Leiden)"
   ]
  },
  {
   "cell_type": "code",
   "execution_count": 56,
   "metadata": {},
   "outputs": [
    {
     "data": {
      "text/plain": [
       "{0: ['AI-For-Beginners',\n",
       "  'ColossalAI',\n",
       "  'data-science-ipython-notebooks',\n",
       "  'DeepSpeed',\n",
       "  'GFPGAN',\n",
       "  'gradio',\n",
       "  'MockingBird',\n",
       "  'Prompt-Engineering-Guide',\n",
       "  'so-vits-svc',\n",
       "  'stable-diffusion-webui',\n",
       "  'stanford_alpaca',\n",
       "  'TTS',\n",
       "  'CLIP',\n",
       "  'diffusers',\n",
       "  'JARVIS',\n",
       "  'stable-diffusion-webui-colab',\n",
       "  'supervision'],\n",
       " 1: ['awesome-deep-learning-papers',\n",
       "  'caffe',\n",
       "  'cs-video-courses',\n",
       "  'Deep-Learning-Papers-Reading-Roadmap',\n",
       "  'handson-ml',\n",
       "  'keras',\n",
       "  'machine-learning-for-software-engineers',\n",
       "  'opencv',\n",
       "  'pytorch-tutorial',\n",
       "  'pytorch',\n",
       "  'TensorFlow-Examples',\n",
       "  'tensorflow',\n",
       "  'cheatsheets-ai',\n",
       "  'CNTK',\n",
       "  'lectures',\n",
       "  'openface',\n",
       "  'Qix'],\n",
       " 2: ['annotated_deep_learning_paper_implementations',\n",
       "  'd2l-zh',\n",
       "  'paper-reading',\n",
       "  'ultralytics',\n",
       "  'yolov5',\n",
       "  'Awesome-pytorch-list',\n",
       "  'CVPR2024-Papers-with-Code',\n",
       "  'deep-learning-for-image-processing',\n",
       "  'Dive-into-DL-PyTorch',\n",
       "  'labelImg',\n",
       "  'learnopencv',\n",
       "  'ML-NLP',\n",
       "  'pytorch-handbook'],\n",
       " 3: ['AI-Expert-Roadmap',\n",
       "  'applied-ml',\n",
       "  'awesome-datascience',\n",
       "  'Made-With-ML',\n",
       "  'ML-From-Scratch',\n",
       "  '500-AI-Machine-learning-Deep-learning-Computer-vision-NLP-Projects-with-code',\n",
       "  'awesome-deep-learning',\n",
       "  'awesome-production-machine-learning',\n",
       "  'best-of-ml-python',\n",
       "  'd2l-en',\n",
       "  'Machine-Learning-Tutorials',\n",
       "  'ML-YouTube-Courses',\n",
       "  'stanford-cs-229-machine-learning'],\n",
       " 4: ['DeepFaceLab',\n",
       "  'DeepSpeech',\n",
       "  'faceswap',\n",
       "  'mediapipe',\n",
       "  'openpose',\n",
       "  'Real-Time-Voice-Cloning',\n",
       "  'spleeter',\n",
       "  'tesseract.js',\n",
       "  'EasyOCR',\n",
       "  'first-order-model',\n",
       "  'ml-agents',\n",
       "  'Screenshot-to-code',\n",
       "  'tfjs'],\n",
       " 5: ['netron',\n",
       "  'pytorch-lightning',\n",
       "  'ray',\n",
       "  'transformers',\n",
       "  'horovod',\n",
       "  'imgaug',\n",
       "  'ncnn',\n",
       "  'onnx',\n",
       "  'Paddle',\n",
       "  'pytorch-CycleGAN-and-pix2pix',\n",
       "  'pytorch_geometric',\n",
       "  'shap',\n",
       "  'tensor2tensor'],\n",
       " 6: ['spaCy',\n",
       "  'streamlit',\n",
       "  'awesome-nlp',\n",
       "  'datasets',\n",
       "  'ivy',\n",
       "  'jina',\n",
       "  'label-studio'],\n",
       " 7: ['100-Days-Of-ML-Code', '100-Days-Of-ML-Code_2', 'TensorFlow-Course'],\n",
       " 8: ['qlib', 'recommenders'],\n",
       " 9: ['fastai', 'fastbook']}"
      ]
     },
     "execution_count": 56,
     "metadata": {},
     "output_type": "execute_result"
    }
   ],
   "source": [
    "labelRepoName_Leiden"
   ]
  },
  {
   "cell_type": "code",
   "execution_count": 57,
   "metadata": {},
   "outputs": [
    {
     "data": {
      "text/plain": [
       "0.27873639825685986"
      ]
     },
     "execution_count": 57,
     "metadata": {},
     "output_type": "execute_result"
    }
   ],
   "source": [
    "get_modularity(input_matrix=adjacency, labels=repoLabels_Leiden, labels_col=userLabels_Leiden)"
   ]
  },
  {
   "cell_type": "markdown",
   "metadata": {},
   "source": [
    "## K-centers"
   ]
  },
  {
   "cell_type": "code",
   "execution_count": 59,
   "metadata": {},
   "outputs": [
    {
     "data": {
      "text/plain": [
       "100"
      ]
     },
     "execution_count": 59,
     "metadata": {},
     "output_type": "execute_result"
    }
   ],
   "source": [
    "from sknetwork.clustering import KCenters  # 48s\n",
    "\n",
    "kcenters = KCenters(n_clusters=10)  # nember of clusters is predefined\n",
    "kcenters.fit(adjacency, force_bipartite=True)\n",
    "\n",
    "repoLabels_Kcenters = kcenters.labels_row_\n",
    "userLabels_Kcenters = kcenters.labels_col_\n",
    "\n",
    "len(set(userLabels_Kcenters)), len(set(userLabels_Kcenters))"
   ]
  },
  {
   "cell_type": "code",
   "execution_count": 61,
   "metadata": {},
   "outputs": [
    {
     "data": {
      "text/plain": [
       "Counter({6: 4, 7: 7, 9: 6, 4: 12, 8: 13, 0: 19, 3: 12, 2: 9, 1: 13, 5: 5})"
      ]
     },
     "execution_count": 61,
     "metadata": {},
     "output_type": "execute_result"
    }
   ],
   "source": [
    "Counter(repoLabels_Kcenters)"
   ]
  },
  {
   "cell_type": "code",
   "execution_count": 62,
   "metadata": {},
   "outputs": [
    {
     "data": {
      "text/plain": [
       "100"
      ]
     },
     "execution_count": 62,
     "metadata": {},
     "output_type": "execute_result"
    }
   ],
   "source": [
    "repoNameLabel_Kcenters = {}\n",
    "\n",
    "for repo, label in zip(repos, repoLabels_Kcenters):\n",
    "    repoNameLabel_Kcenters[repo] = label\n",
    "\n",
    "len(repoNameLabel_Kcenters)"
   ]
  },
  {
   "cell_type": "code",
   "execution_count": 63,
   "metadata": {},
   "outputs": [
    {
     "data": {
      "text/plain": [
       "10"
      ]
     },
     "execution_count": 63,
     "metadata": {},
     "output_type": "execute_result"
    }
   ],
   "source": [
    "labelRepoName_Kcenters = {}\n",
    "for l in set(repoLabels_Kcenters):\n",
    "    labelRepoName_Kcenters[l] = []\n",
    "\n",
    "for repo, label in zip(repos, repoLabels_Kcenters):\n",
    "    labelRepoName_Kcenters[label].append(repo)\n",
    "\n",
    "len(labelRepoName_Kcenters)"
   ]
  },
  {
   "cell_type": "code",
   "execution_count": 64,
   "metadata": {},
   "outputs": [
    {
     "data": {
      "text/plain": [
       "{0: ['awesome-datascience',\n",
       "  'awesome-deep-learning-papers',\n",
       "  'data-science-ipython-notebooks',\n",
       "  'Deep-Learning-Papers-Reading-Roadmap',\n",
       "  'handson-ml',\n",
       "  'keras',\n",
       "  'machine-learning-for-software-engineers',\n",
       "  'Made-With-ML',\n",
       "  'ML-From-Scratch',\n",
       "  'opencv',\n",
       "  'TensorFlow-Examples',\n",
       "  'tensorflow',\n",
       "  'awesome-deep-learning',\n",
       "  'awesome-nlp',\n",
       "  'cheatsheets-ai',\n",
       "  'CNTK',\n",
       "  'lectures',\n",
       "  'Machine-Learning-Tutorials',\n",
       "  'stanford-cs-229-machine-learning'],\n",
       " 1: ['DeepFaceLab',\n",
       "  'DeepSpeech',\n",
       "  'faceswap',\n",
       "  'GFPGAN',\n",
       "  'mediapipe',\n",
       "  'MockingBird',\n",
       "  'Real-Time-Voice-Cloning',\n",
       "  'so-vits-svc',\n",
       "  'spleeter',\n",
       "  'tesseract.js',\n",
       "  'first-order-model',\n",
       "  'Screenshot-to-code',\n",
       "  'tfjs'],\n",
       " 2: ['ColossalAI',\n",
       "  'DeepSpeed',\n",
       "  'stable-diffusion-webui',\n",
       "  'stanford_alpaca',\n",
       "  'ultralytics',\n",
       "  'CLIP',\n",
       "  'diffusers',\n",
       "  'JARVIS',\n",
       "  'stable-diffusion-webui-colab'],\n",
       " 3: ['caffe',\n",
       "  'netron',\n",
       "  'openpose',\n",
       "  'pytorch',\n",
       "  'yolov5',\n",
       "  'imgaug',\n",
       "  'labelImg',\n",
       "  'learnopencv',\n",
       "  'ml-agents',\n",
       "  'ncnn',\n",
       "  'openface',\n",
       "  'pytorch-CycleGAN-and-pix2pix'],\n",
       " 4: ['annotated_deep_learning_paper_implementations',\n",
       "  'd2l-zh',\n",
       "  'paper-reading',\n",
       "  'pytorch-tutorial',\n",
       "  'Awesome-pytorch-list',\n",
       "  'CVPR2024-Papers-with-Code',\n",
       "  'd2l-en',\n",
       "  'deep-learning-for-image-processing',\n",
       "  'Dive-into-DL-PyTorch',\n",
       "  'ML-NLP',\n",
       "  'Paddle',\n",
       "  'pytorch-handbook'],\n",
       " 5: ['pytorch-lightning',\n",
       "  '500-AI-Machine-learning-Deep-learning-Computer-vision-NLP-Projects-with-code',\n",
       "  'best-of-ml-python',\n",
       "  'ivy',\n",
       "  'ML-YouTube-Courses'],\n",
       " 6: ['100-Days-Of-ML-Code',\n",
       "  '100-Days-Of-ML-Code_2',\n",
       "  'Qix',\n",
       "  'TensorFlow-Course'],\n",
       " 7: ['AI-Expert-Roadmap',\n",
       "  'cs-video-courses',\n",
       "  'datasets',\n",
       "  'EasyOCR',\n",
       "  'jina',\n",
       "  'label-studio',\n",
       "  'qlib'],\n",
       " 8: ['applied-ml',\n",
       "  'fastai',\n",
       "  'ray',\n",
       "  'spaCy',\n",
       "  'transformers',\n",
       "  'awesome-production-machine-learning',\n",
       "  'fastbook',\n",
       "  'horovod',\n",
       "  'onnx',\n",
       "  'pytorch_geometric',\n",
       "  'recommenders',\n",
       "  'shap',\n",
       "  'tensor2tensor'],\n",
       " 9: ['AI-For-Beginners',\n",
       "  'gradio',\n",
       "  'Prompt-Engineering-Guide',\n",
       "  'streamlit',\n",
       "  'TTS',\n",
       "  'supervision']}"
      ]
     },
     "execution_count": 64,
     "metadata": {},
     "output_type": "execute_result"
    }
   ],
   "source": [
    "labelRepoName_Kcenters"
   ]
  },
  {
   "cell_type": "code",
   "execution_count": 65,
   "metadata": {},
   "outputs": [
    {
     "data": {
      "text/plain": [
       "0.26999034747144657"
      ]
     },
     "execution_count": 65,
     "metadata": {},
     "output_type": "execute_result"
    }
   ],
   "source": [
    "get_modularity(input_matrix=adjacency, labels=repoLabels_Kcenters, labels_col=userLabels_Kcenters)"
   ]
  },
  {
   "cell_type": "markdown",
   "metadata": {},
   "source": [
    "## Propogation"
   ]
  },
  {
   "cell_type": "code",
   "execution_count": 69,
   "metadata": {},
   "outputs": [
    {
     "data": {
      "text/plain": [
       "(1, 1)"
      ]
     },
     "execution_count": 69,
     "metadata": {},
     "output_type": "execute_result"
    }
   ],
   "source": [
    "from sknetwork.clustering import PropagationClustering\n",
    "\n",
    "propogation = PropagationClustering()\n",
    "propogation.fit(adjacency)\n",
    "\n",
    "repoLabels_Propogation = propogation.labels_row_\n",
    "userLabels_Propogation = propogation.labels_col_\n",
    "\n",
    "len(set(userLabels_Propogation)), len(set(userLabels_Propogation))"
   ]
  },
  {
   "cell_type": "code",
   "execution_count": 70,
   "metadata": {},
   "outputs": [
    {
     "data": {
      "text/plain": [
       "Counter({0: 100})"
      ]
     },
     "execution_count": 70,
     "metadata": {},
     "output_type": "execute_result"
    }
   ],
   "source": [
    "Counter(repoLabels_Propogation)"
   ]
  },
  {
   "cell_type": "code",
   "execution_count": null,
   "metadata": {},
   "outputs": [
    {
     "data": {
      "text/plain": [
       "100"
      ]
     },
     "metadata": {},
     "output_type": "display_data"
    }
   ],
   "source": [
    "repoNameLabel_Propogation = {}\n",
    "\n",
    "for repo, label in zip(repos, repoLabels_Propogation):\n",
    "    repoNameLabel_Propogation[repo] = label\n",
    "\n",
    "len(repoNameLabel_Propogation)"
   ]
  },
  {
   "cell_type": "code",
   "execution_count": null,
   "metadata": {},
   "outputs": [
    {
     "data": {
      "text/plain": [
       "10"
      ]
     },
     "metadata": {},
     "output_type": "display_data"
    }
   ],
   "source": [
    "labelRepoName_Propogation = {}\n",
    "for l in set(repoLabels_Propogation):\n",
    "    labelRepoName_Propogation[l] = []\n",
    "\n",
    "for repo, label in zip(repos, repoLabels_Propogation):\n",
    "    labelRepoName_Propogation[label].append(repo)\n",
    "\n",
    "len(labelRepoName_Propogation)"
   ]
  },
  {
   "cell_type": "code",
   "execution_count": null,
   "metadata": {},
   "outputs": [
    {
     "data": {
      "text/plain": [
       "{0: ['awesome-datascience',\n",
       "  'awesome-deep-learning-papers',\n",
       "  'data-science-ipython-notebooks',\n",
       "  'Deep-Learning-Papers-Reading-Roadmap',\n",
       "  'handson-ml',\n",
       "  'keras',\n",
       "  'machine-learning-for-software-engineers',\n",
       "  'Made-With-ML',\n",
       "  'ML-From-Scratch',\n",
       "  'opencv',\n",
       "  'TensorFlow-Examples',\n",
       "  'tensorflow',\n",
       "  'awesome-deep-learning',\n",
       "  'awesome-nlp',\n",
       "  'cheatsheets-ai',\n",
       "  'CNTK',\n",
       "  'lectures',\n",
       "  'Machine-Learning-Tutorials',\n",
       "  'stanford-cs-229-machine-learning'],\n",
       " 1: ['DeepFaceLab',\n",
       "  'DeepSpeech',\n",
       "  'faceswap',\n",
       "  'GFPGAN',\n",
       "  'mediapipe',\n",
       "  'MockingBird',\n",
       "  'Real-Time-Voice-Cloning',\n",
       "  'so-vits-svc',\n",
       "  'spleeter',\n",
       "  'tesseract.js',\n",
       "  'first-order-model',\n",
       "  'Screenshot-to-code',\n",
       "  'tfjs'],\n",
       " 2: ['ColossalAI',\n",
       "  'DeepSpeed',\n",
       "  'stable-diffusion-webui',\n",
       "  'stanford_alpaca',\n",
       "  'ultralytics',\n",
       "  'CLIP',\n",
       "  'diffusers',\n",
       "  'JARVIS',\n",
       "  'stable-diffusion-webui-colab'],\n",
       " 3: ['caffe',\n",
       "  'netron',\n",
       "  'openpose',\n",
       "  'pytorch',\n",
       "  'yolov5',\n",
       "  'imgaug',\n",
       "  'labelImg',\n",
       "  'learnopencv',\n",
       "  'ml-agents',\n",
       "  'ncnn',\n",
       "  'openface',\n",
       "  'pytorch-CycleGAN-and-pix2pix'],\n",
       " 4: ['annotated_deep_learning_paper_implementations',\n",
       "  'd2l-zh',\n",
       "  'paper-reading',\n",
       "  'pytorch-tutorial',\n",
       "  'Awesome-pytorch-list',\n",
       "  'CVPR2024-Papers-with-Code',\n",
       "  'd2l-en',\n",
       "  'deep-learning-for-image-processing',\n",
       "  'Dive-into-DL-PyTorch',\n",
       "  'ML-NLP',\n",
       "  'Paddle',\n",
       "  'pytorch-handbook'],\n",
       " 5: ['pytorch-lightning',\n",
       "  '500-AI-Machine-learning-Deep-learning-Computer-vision-NLP-Projects-with-code',\n",
       "  'best-of-ml-python',\n",
       "  'ivy',\n",
       "  'ML-YouTube-Courses'],\n",
       " 6: ['100-Days-Of-ML-Code',\n",
       "  '100-Days-Of-ML-Code_2',\n",
       "  'Qix',\n",
       "  'TensorFlow-Course'],\n",
       " 7: ['AI-Expert-Roadmap',\n",
       "  'cs-video-courses',\n",
       "  'datasets',\n",
       "  'EasyOCR',\n",
       "  'jina',\n",
       "  'label-studio',\n",
       "  'qlib'],\n",
       " 8: ['applied-ml',\n",
       "  'fastai',\n",
       "  'ray',\n",
       "  'spaCy',\n",
       "  'transformers',\n",
       "  'awesome-production-machine-learning',\n",
       "  'fastbook',\n",
       "  'horovod',\n",
       "  'onnx',\n",
       "  'pytorch_geometric',\n",
       "  'recommenders',\n",
       "  'shap',\n",
       "  'tensor2tensor'],\n",
       " 9: ['AI-For-Beginners',\n",
       "  'gradio',\n",
       "  'Prompt-Engineering-Guide',\n",
       "  'streamlit',\n",
       "  'TTS',\n",
       "  'supervision']}"
      ]
     },
     "metadata": {},
     "output_type": "display_data"
    }
   ],
   "source": [
    "labelRepoName_Propogation"
   ]
  },
  {
   "cell_type": "code",
   "execution_count": 71,
   "metadata": {},
   "outputs": [
    {
     "data": {
      "text/plain": [
       "-1.162980822755344e-11"
      ]
     },
     "execution_count": 71,
     "metadata": {},
     "output_type": "execute_result"
    }
   ],
   "source": [
    "get_modularity(input_matrix=adjacency, labels=repoLabels_Propogation, labels_col=userLabels_Propogation)"
   ]
  }
 ],
 "metadata": {
  "kernelspec": {
   "display_name": "Python 3",
   "language": "python",
   "name": "python3"
  },
  "language_info": {
   "codemirror_mode": {
    "name": "ipython",
    "version": 3
   },
   "file_extension": ".py",
   "mimetype": "text/x-python",
   "name": "python",
   "nbconvert_exporter": "python",
   "pygments_lexer": "ipython3",
   "version": "3.11.1"
  }
 },
 "nbformat": 4,
 "nbformat_minor": 2
}
