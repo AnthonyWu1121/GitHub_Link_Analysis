{
 "cells": [
  {
   "cell_type": "code",
   "execution_count": 1,
   "metadata": {},
   "outputs": [],
   "source": [
    "import json\n",
    "import os\n",
    "import numpy as np\n",
    "import networkx as nx\n",
    "from networkx.algorithms import bipartite\n",
    "import sknetwork as skn\n",
    "from collections import Counter\n",
    "import scipy\n",
    "from sknetwork.clustering import get_modularity"
   ]
  },
  {
   "cell_type": "code",
   "execution_count": 2,
   "metadata": {},
   "outputs": [
    {
     "data": {
      "text/plain": [
       "100"
      ]
     },
     "execution_count": 2,
     "metadata": {},
     "output_type": "execute_result"
    }
   ],
   "source": [
    "repos = []\n",
    "with open('repos.json', 'r') as f:\n",
    "    repos = json.load(f)\n",
    "\n",
    "len(repos)"
   ]
  },
  {
   "cell_type": "code",
   "execution_count": 3,
   "metadata": {},
   "outputs": [
    {
     "data": {
      "text/plain": [
       "412266"
      ]
     },
     "execution_count": 3,
     "metadata": {},
     "output_type": "execute_result"
    }
   ],
   "source": [
    "users = []\n",
    "with open('users.json', 'r') as f:\n",
    "    users = json.load(f)\n",
    "\n",
    "len(users)"
   ]
  },
  {
   "cell_type": "code",
   "execution_count": 4,
   "metadata": {},
   "outputs": [
    {
     "data": {
      "text/plain": [
       "<100x412266 sparse matrix of type '<class 'numpy.intc'>'\n",
       "\twith 1908925 stored elements in Compressed Sparse Row format>"
      ]
     },
     "execution_count": 4,
     "metadata": {},
     "output_type": "execute_result"
    }
   ],
   "source": [
    "adjacency_matrix = {}\n",
    "with open('adjacency_matrix.json', 'r') as f:\n",
    "    adjacency_matrix = json.load(f)\n",
    "adjacency = scipy.sparse.csr_matrix(adjacency_matrix)\n",
    "adjacency"
   ]
  },
  {
   "cell_type": "code",
   "execution_count": 5,
   "metadata": {},
   "outputs": [],
   "source": [
    "B = bipartite.from_biadjacency_matrix(adjacency)"
   ]
  },
  {
   "cell_type": "code",
   "execution_count": 6,
   "metadata": {},
   "outputs": [
    {
     "name": "stdout",
     "output_type": "stream",
     "text": [
      "True\n"
     ]
    }
   ],
   "source": [
    "print(nx.is_connected(B))\n",
    "bottom_nodes, top_nodes = bipartite.sets(B)  # if success, the graph is bipartite"
   ]
  },
  {
   "cell_type": "markdown",
   "metadata": {},
   "source": [
    "## Louvain"
   ]
  },
  {
   "cell_type": "code",
   "execution_count": 7,
   "metadata": {},
   "outputs": [
    {
     "data": {
      "text/plain": [
       "(9, 9)"
      ]
     },
     "execution_count": 7,
     "metadata": {},
     "output_type": "execute_result"
    }
   ],
   "source": [
    "from sknetwork.clustering import Louvain\n",
    "\n",
    "louvain = Louvain(random_state=42)\n",
    "louvain.fit(adjacency, force_bipartite=True)\n",
    "\n",
    "repoLabels_Louvain = louvain.labels_row_\n",
    "userLabels_Louvain = louvain.labels_col_\n",
    "\n",
    "len(set(repoLabels_Louvain)), len(set(userLabels_Louvain))"
   ]
  },
  {
   "cell_type": "code",
   "execution_count": 8,
   "metadata": {},
   "outputs": [
    {
     "data": {
      "text/plain": [
       "Counter({4: 10, 1: 14, 0: 25, 2: 15, 6: 8, 3: 15, 5: 10, 7: 2, 8: 1})"
      ]
     },
     "execution_count": 8,
     "metadata": {},
     "output_type": "execute_result"
    }
   ],
   "source": [
    "Counter(repoLabels_Louvain)"
   ]
  },
  {
   "cell_type": "code",
   "execution_count": 9,
   "metadata": {},
   "outputs": [
    {
     "data": {
      "text/plain": [
       "100"
      ]
     },
     "execution_count": 9,
     "metadata": {},
     "output_type": "execute_result"
    }
   ],
   "source": [
    "repoNameLabel_Louvain = {}\n",
    "\n",
    "for repo, label in zip(repos, repoLabels_Louvain):\n",
    "    repoNameLabel_Louvain[repo] = label\n",
    "\n",
    "len(repoNameLabel_Louvain)"
   ]
  },
  {
   "cell_type": "code",
   "execution_count": 10,
   "metadata": {},
   "outputs": [
    {
     "data": {
      "text/plain": [
       "9"
      ]
     },
     "execution_count": 10,
     "metadata": {},
     "output_type": "execute_result"
    }
   ],
   "source": [
    "labelRepoName_Louvain = {}\n",
    "for l in set(repoLabels_Louvain):\n",
    "    labelRepoName_Louvain[l] = []\n",
    "\n",
    "for repo, label in zip(repos, repoLabels_Louvain):\n",
    "    labelRepoName_Louvain[label].append(repo)\n",
    "\n",
    "len(labelRepoName_Louvain)"
   ]
  },
  {
   "cell_type": "code",
   "execution_count": 11,
   "metadata": {},
   "outputs": [
    {
     "data": {
      "text/plain": [
       "{0: ['AI-For-Beginners.json',\n",
       "  'annotated_deep_learning_paper_implementations.json',\n",
       "  'applied-ml.json',\n",
       "  'ColossalAI.json',\n",
       "  'DeepFaceLab.json',\n",
       "  'DeepSpeed.json',\n",
       "  'faceswap.json',\n",
       "  'GFPGAN.json',\n",
       "  'gradio.json',\n",
       "  'MockingBird.json',\n",
       "  'Prompt-Engineering-Guide.json',\n",
       "  'Real-Time-Voice-Cloning.json',\n",
       "  'so-vits-svc.json',\n",
       "  'spleeter.json',\n",
       "  'stable-diffusion-webui.json',\n",
       "  'stanford_alpaca.json',\n",
       "  'TTS.json',\n",
       "  'diffusers.json',\n",
       "  'first-order-model.json',\n",
       "  'JARVIS.json',\n",
       "  'jina.json',\n",
       "  'lectures.json',\n",
       "  'Qix.json',\n",
       "  'stable-diffusion-webui-colab.json',\n",
       "  'supervision.json'],\n",
       " 1: ['AI-Expert-Roadmap.json',\n",
       "  'awesome-datascience.json',\n",
       "  'data-science-ipython-notebooks.json',\n",
       "  'machine-learning-for-software-engineers.json',\n",
       "  'Made-With-ML.json',\n",
       "  'ML-From-Scratch.json',\n",
       "  '500-AI-Machine-learning-Deep-learning-Computer-vision-NLP-Projects-with-code.json',\n",
       "  'awesome-deep-learning.json',\n",
       "  'awesome-nlp.json',\n",
       "  'awesome-production-machine-learning.json',\n",
       "  'best-of-ml-python.json',\n",
       "  'Machine-Learning-Tutorials.json',\n",
       "  'ML-YouTube-Courses.json',\n",
       "  'stanford-cs-229-machine-learning.json'],\n",
       " 2: ['awesome-deep-learning-papers.json',\n",
       "  'caffe.json',\n",
       "  'Deep-Learning-Papers-Reading-Roadmap.json',\n",
       "  'handson-ml.json',\n",
       "  'keras.json',\n",
       "  'opencv.json',\n",
       "  'pytorch.json',\n",
       "  'spaCy.json',\n",
       "  'TensorFlow-Examples.json',\n",
       "  'tensorflow.json',\n",
       "  'cheatsheets-ai.json',\n",
       "  'CNTK.json',\n",
       "  'horovod.json',\n",
       "  'Paddle.json',\n",
       "  'tensor2tensor.json'],\n",
       " 3: ['fastai.json',\n",
       "  'mediapipe.json',\n",
       "  'netron.json',\n",
       "  'openpose.json',\n",
       "  'ultralytics.json',\n",
       "  'yolov5.json',\n",
       "  'CLIP.json',\n",
       "  'CVPR2024-Papers-with-Code.json',\n",
       "  'deep-learning-for-image-processing.json',\n",
       "  'imgaug.json',\n",
       "  'labelImg.json',\n",
       "  'ncnn.json',\n",
       "  'onnx.json',\n",
       "  'pytorch-CycleGAN-and-pix2pix.json',\n",
       "  'shap.json'],\n",
       " 4: ['100-Days-Of-ML-Code.json',\n",
       "  'd2l-zh.json',\n",
       "  'paper-reading.json',\n",
       "  'pytorch-tutorial.json',\n",
       "  '100-Days-Of-ML-Code_2.json',\n",
       "  'Awesome-pytorch-list.json',\n",
       "  'Dive-into-DL-PyTorch.json',\n",
       "  'ML-NLP.json',\n",
       "  'pytorch-handbook.json',\n",
       "  'TensorFlow-Course.json'],\n",
       " 5: ['pytorch-lightning.json',\n",
       "  'ray.json',\n",
       "  'streamlit.json',\n",
       "  'transformers.json',\n",
       "  'datasets.json',\n",
       "  'ivy.json',\n",
       "  'label-studio.json',\n",
       "  'pytorch_geometric.json',\n",
       "  'qlib.json',\n",
       "  'recommenders.json'],\n",
       " 6: ['cs-video-courses.json',\n",
       "  'DeepSpeech.json',\n",
       "  'tesseract.js.json',\n",
       "  'EasyOCR.json',\n",
       "  'learnopencv.json',\n",
       "  'openface.json',\n",
       "  'Screenshot-to-code.json',\n",
       "  'tfjs.json'],\n",
       " 7: ['d2l-en.json', 'fastbook.json'],\n",
       " 8: ['ml-agents.json']}"
      ]
     },
     "execution_count": 11,
     "metadata": {},
     "output_type": "execute_result"
    }
   ],
   "source": [
    "labelRepoName_Louvain"
   ]
  },
  {
   "cell_type": "code",
   "execution_count": 12,
   "metadata": {},
   "outputs": [
    {
     "data": {
      "text/plain": [
       "0.27616872049490504"
      ]
     },
     "execution_count": 12,
     "metadata": {},
     "output_type": "execute_result"
    }
   ],
   "source": [
    "get_modularity(input_matrix=adjacency, labels=repoLabels_Louvain, labels_col=userLabels_Louvain)"
   ]
  },
  {
   "cell_type": "markdown",
   "metadata": {},
   "source": [
    "## Leiden"
   ]
  },
  {
   "cell_type": "code",
   "execution_count": 13,
   "metadata": {},
   "outputs": [
    {
     "data": {
      "text/plain": [
       "(8, 8)"
      ]
     },
     "execution_count": 13,
     "metadata": {},
     "output_type": "execute_result"
    }
   ],
   "source": [
    "from sknetwork.clustering import Leiden\n",
    "\n",
    "leiden = Leiden(random_state=42)\n",
    "leiden.fit(adjacency, force_bipartite=True)\n",
    "\n",
    "repoLabels_Leiden = leiden.labels_row_\n",
    "userLabels_Leiden = leiden.labels_col_\n",
    "\n",
    "len(set(repoLabels_Leiden)), len(set(userLabels_Leiden))"
   ]
  },
  {
   "cell_type": "code",
   "execution_count": 14,
   "metadata": {},
   "outputs": [
    {
     "data": {
      "text/plain": [
       "Counter({2: 11, 5: 9, 1: 22, 0: 27, 4: 14, 3: 12, 6: 4, 7: 1})"
      ]
     },
     "execution_count": 14,
     "metadata": {},
     "output_type": "execute_result"
    }
   ],
   "source": [
    "Counter(repoLabels_Leiden)"
   ]
  },
  {
   "cell_type": "code",
   "execution_count": 15,
   "metadata": {},
   "outputs": [
    {
     "data": {
      "text/plain": [
       "100"
      ]
     },
     "execution_count": 15,
     "metadata": {},
     "output_type": "execute_result"
    }
   ],
   "source": [
    "repoNameLabel_Leiden = {}\n",
    "\n",
    "for repo, label in zip(repos, repoLabels_Leiden):\n",
    "    repoNameLabel_Leiden[repo] = label\n",
    "\n",
    "len(repoNameLabel_Leiden)"
   ]
  },
  {
   "cell_type": "code",
   "execution_count": 16,
   "metadata": {},
   "outputs": [
    {
     "data": {
      "text/plain": [
       "8"
      ]
     },
     "execution_count": 16,
     "metadata": {},
     "output_type": "execute_result"
    }
   ],
   "source": [
    "labelRepoName_Leiden = {}\n",
    "for l in set(repoLabels_Leiden):\n",
    "    labelRepoName_Leiden[l] = []\n",
    "\n",
    "for repo, label in zip(repos, repoLabels_Leiden):\n",
    "    labelRepoName_Leiden[label].append(repo)\n",
    "\n",
    "len(labelRepoName_Leiden)"
   ]
  },
  {
   "cell_type": "code",
   "execution_count": 17,
   "metadata": {},
   "outputs": [
    {
     "data": {
      "text/plain": [
       "{0: ['awesome-datascience.json',\n",
       "  'awesome-deep-learning-papers.json',\n",
       "  'caffe.json',\n",
       "  'cs-video-courses.json',\n",
       "  'data-science-ipython-notebooks.json',\n",
       "  'Deep-Learning-Papers-Reading-Roadmap.json',\n",
       "  'DeepSpeech.json',\n",
       "  'handson-ml.json',\n",
       "  'keras.json',\n",
       "  'machine-learning-for-software-engineers.json',\n",
       "  'ML-From-Scratch.json',\n",
       "  'opencv.json',\n",
       "  'pytorch.json',\n",
       "  'spaCy.json',\n",
       "  'TensorFlow-Examples.json',\n",
       "  'tensorflow.json',\n",
       "  'tesseract.js.json',\n",
       "  'awesome-deep-learning.json',\n",
       "  'awesome-nlp.json',\n",
       "  'cheatsheets-ai.json',\n",
       "  'CNTK.json',\n",
       "  'lectures.json',\n",
       "  'Machine-Learning-Tutorials.json',\n",
       "  'openface.json',\n",
       "  'Qix.json',\n",
       "  'Screenshot-to-code.json',\n",
       "  'tfjs.json'],\n",
       " 1: ['AI-For-Beginners.json',\n",
       "  'annotated_deep_learning_paper_implementations.json',\n",
       "  'ColossalAI.json',\n",
       "  'DeepFaceLab.json',\n",
       "  'DeepSpeed.json',\n",
       "  'faceswap.json',\n",
       "  'GFPGAN.json',\n",
       "  'gradio.json',\n",
       "  'MockingBird.json',\n",
       "  'Prompt-Engineering-Guide.json',\n",
       "  'Real-Time-Voice-Cloning.json',\n",
       "  'so-vits-svc.json',\n",
       "  'spleeter.json',\n",
       "  'stable-diffusion-webui.json',\n",
       "  'stanford_alpaca.json',\n",
       "  'TTS.json',\n",
       "  'diffusers.json',\n",
       "  'EasyOCR.json',\n",
       "  'first-order-model.json',\n",
       "  'JARVIS.json',\n",
       "  'stable-diffusion-webui-colab.json',\n",
       "  'supervision.json'],\n",
       " 2: ['100-Days-Of-ML-Code.json',\n",
       "  'd2l-zh.json',\n",
       "  'paper-reading.json',\n",
       "  'pytorch-tutorial.json',\n",
       "  '100-Days-Of-ML-Code_2.json',\n",
       "  'Awesome-pytorch-list.json',\n",
       "  'deep-learning-for-image-processing.json',\n",
       "  'Dive-into-DL-PyTorch.json',\n",
       "  'ML-NLP.json',\n",
       "  'pytorch-handbook.json',\n",
       "  'TensorFlow-Course.json'],\n",
       " 3: ['pytorch-lightning.json',\n",
       "  'ray.json',\n",
       "  'streamlit.json',\n",
       "  'transformers.json',\n",
       "  'datasets.json',\n",
       "  'ivy.json',\n",
       "  'jina.json',\n",
       "  'label-studio.json',\n",
       "  'pytorch_geometric.json',\n",
       "  'qlib.json',\n",
       "  'recommenders.json',\n",
       "  'shap.json'],\n",
       " 4: ['fastai.json',\n",
       "  'mediapipe.json',\n",
       "  'netron.json',\n",
       "  'openpose.json',\n",
       "  'ultralytics.json',\n",
       "  'yolov5.json',\n",
       "  'CLIP.json',\n",
       "  'CVPR2024-Papers-with-Code.json',\n",
       "  'fastbook.json',\n",
       "  'imgaug.json',\n",
       "  'labelImg.json',\n",
       "  'learnopencv.json',\n",
       "  'ncnn.json',\n",
       "  'pytorch-CycleGAN-and-pix2pix.json'],\n",
       " 5: ['AI-Expert-Roadmap.json',\n",
       "  'applied-ml.json',\n",
       "  'Made-With-ML.json',\n",
       "  '500-AI-Machine-learning-Deep-learning-Computer-vision-NLP-Projects-with-code.json',\n",
       "  'awesome-production-machine-learning.json',\n",
       "  'best-of-ml-python.json',\n",
       "  'd2l-en.json',\n",
       "  'ML-YouTube-Courses.json',\n",
       "  'stanford-cs-229-machine-learning.json'],\n",
       " 6: ['horovod.json', 'onnx.json', 'Paddle.json', 'tensor2tensor.json'],\n",
       " 7: ['ml-agents.json']}"
      ]
     },
     "execution_count": 17,
     "metadata": {},
     "output_type": "execute_result"
    }
   ],
   "source": [
    "labelRepoName_Leiden"
   ]
  },
  {
   "cell_type": "code",
   "execution_count": 18,
   "metadata": {},
   "outputs": [
    {
     "data": {
      "text/plain": [
       "0.281482868211348"
      ]
     },
     "execution_count": 18,
     "metadata": {},
     "output_type": "execute_result"
    }
   ],
   "source": [
    "get_modularity(input_matrix=adjacency, labels=repoLabels_Leiden, labels_col=userLabels_Leiden)"
   ]
  },
  {
   "cell_type": "markdown",
   "metadata": {},
   "source": [
    "## K-centers"
   ]
  },
  {
   "cell_type": "code",
   "execution_count": 7,
   "metadata": {},
   "outputs": [
    {
     "name": "stdout",
     "output_type": "stream",
     "text": [
      "4 0.2996274631525948\n"
     ]
    }
   ],
   "source": [
    "from sknetwork.clustering import KCenters  # 48s\n",
    "\n",
    "# kcenters = KCenters(n_clusters=10)  # nember of clusters is predefined\n",
    "# kcenters.fit(adjacency, force_bipartite=True)\n",
    "\n",
    "# repoLabels_Kcenters = kcenters.labels_row_\n",
    "# userLabels_Kcenters = kcenters.labels_col_\n",
    "\n",
    "# len(set(userLabels_Kcenters)), len(set(userLabels_Kcenters))\n",
    "\n",
    "best_k = -1\n",
    "max_modularity = -1\n",
    "best_repoLabels_Kcenters = None\n",
    "best_userLabels_Kcenters = None\n",
    "for k in range(2, 11):\n",
    "    kcenters = KCenters(n_clusters=k)  # nember of clusters is predefined\n",
    "    kcenters.fit(adjacency, force_bipartite=True)\n",
    "\n",
    "    repoLabels_Kcenters = kcenters.labels_row_\n",
    "    userLabels_Kcenters = kcenters.labels_col_\n",
    "\n",
    "    cur_modularity = get_modularity(input_matrix=adjacency, labels=repoLabels_Kcenters, labels_col=userLabels_Kcenters)\n",
    "    print(k, \":\", cur_modularity)\n",
    "\n",
    "    if cur_modularity > max_modularity:\n",
    "        max_modularity = cur_modularity\n",
    "        best_k = k\n",
    "        best_repoLabels_Kcenters = repoLabels_Kcenters\n",
    "        best_userLabels_Kcenters = userLabels_Kcenters\n",
    "\n",
    "print(\"best:\", best_k, \":\", max_modularity)"
   ]
  },
  {
   "cell_type": "code",
   "execution_count": 8,
   "metadata": {},
   "outputs": [
    {
     "data": {
      "text/plain": [
       "Counter({2: 26, 1: 28, 3: 20, 0: 26})"
      ]
     },
     "execution_count": 8,
     "metadata": {},
     "output_type": "execute_result"
    }
   ],
   "source": [
    "Counter(best_repoLabels_Kcenters)"
   ]
  },
  {
   "cell_type": "code",
   "execution_count": 9,
   "metadata": {},
   "outputs": [
    {
     "data": {
      "text/plain": [
       "100"
      ]
     },
     "execution_count": 9,
     "metadata": {},
     "output_type": "execute_result"
    }
   ],
   "source": [
    "repoNameLabel_Kcenters = {}\n",
    "\n",
    "for repo, label in zip(repos, best_repoLabels_Kcenters):\n",
    "    repoNameLabel_Kcenters[repo] = label\n",
    "\n",
    "len(repoNameLabel_Kcenters)"
   ]
  },
  {
   "cell_type": "code",
   "execution_count": 11,
   "metadata": {},
   "outputs": [
    {
     "data": {
      "text/plain": [
       "4"
      ]
     },
     "execution_count": 11,
     "metadata": {},
     "output_type": "execute_result"
    }
   ],
   "source": [
    "labelRepoName_Kcenters = {}\n",
    "for l in set(best_repoLabels_Kcenters):\n",
    "    labelRepoName_Kcenters[l] = []\n",
    "\n",
    "for repo, label in zip(repos, best_repoLabels_Kcenters):\n",
    "    labelRepoName_Kcenters[label].append(repo)\n",
    "\n",
    "len(labelRepoName_Kcenters)"
   ]
  },
  {
   "cell_type": "code",
   "execution_count": 12,
   "metadata": {},
   "outputs": [
    {
     "data": {
      "text/plain": [
       "{0: ['caffe.json',\n",
       "  'DeepSpeech.json',\n",
       "  'fastai.json',\n",
       "  'keras.json',\n",
       "  'netron.json',\n",
       "  'opencv.json',\n",
       "  'openpose.json',\n",
       "  'pytorch.json',\n",
       "  'ray.json',\n",
       "  'spaCy.json',\n",
       "  'streamlit.json',\n",
       "  'TensorFlow-Examples.json',\n",
       "  'tensorflow.json',\n",
       "  'tesseract.js.json',\n",
       "  'CNTK.json',\n",
       "  'horovod.json',\n",
       "  'imgaug.json',\n",
       "  'labelImg.json',\n",
       "  'lectures.json',\n",
       "  'ml-agents.json',\n",
       "  'onnx.json',\n",
       "  'openface.json',\n",
       "  'Screenshot-to-code.json',\n",
       "  'shap.json',\n",
       "  'tensor2tensor.json',\n",
       "  'tfjs.json'],\n",
       " 1: ['AI-For-Beginners.json',\n",
       "  'ColossalAI.json',\n",
       "  'DeepFaceLab.json',\n",
       "  'DeepSpeed.json',\n",
       "  'faceswap.json',\n",
       "  'GFPGAN.json',\n",
       "  'gradio.json',\n",
       "  'mediapipe.json',\n",
       "  'MockingBird.json',\n",
       "  'Prompt-Engineering-Guide.json',\n",
       "  'Real-Time-Voice-Cloning.json',\n",
       "  'so-vits-svc.json',\n",
       "  'spleeter.json',\n",
       "  'stable-diffusion-webui.json',\n",
       "  'stanford_alpaca.json',\n",
       "  'TTS.json',\n",
       "  'ultralytics.json',\n",
       "  'yolov5.json',\n",
       "  'CLIP.json',\n",
       "  'diffusers.json',\n",
       "  'EasyOCR.json',\n",
       "  'first-order-model.json',\n",
       "  'JARVIS.json',\n",
       "  'jina.json',\n",
       "  'label-studio.json',\n",
       "  'ncnn.json',\n",
       "  'stable-diffusion-webui-colab.json',\n",
       "  'supervision.json'],\n",
       " 2: ['100-Days-Of-ML-Code.json',\n",
       "  'AI-Expert-Roadmap.json',\n",
       "  'applied-ml.json',\n",
       "  'awesome-datascience.json',\n",
       "  'awesome-deep-learning-papers.json',\n",
       "  'cs-video-courses.json',\n",
       "  'data-science-ipython-notebooks.json',\n",
       "  'Deep-Learning-Papers-Reading-Roadmap.json',\n",
       "  'handson-ml.json',\n",
       "  'machine-learning-for-software-engineers.json',\n",
       "  'Made-With-ML.json',\n",
       "  'ML-From-Scratch.json',\n",
       "  '500-AI-Machine-learning-Deep-learning-Computer-vision-NLP-Projects-with-code.json',\n",
       "  'awesome-deep-learning.json',\n",
       "  'awesome-nlp.json',\n",
       "  'awesome-production-machine-learning.json',\n",
       "  'best-of-ml-python.json',\n",
       "  'cheatsheets-ai.json',\n",
       "  'd2l-en.json',\n",
       "  'datasets.json',\n",
       "  'fastbook.json',\n",
       "  'ivy.json',\n",
       "  'Machine-Learning-Tutorials.json',\n",
       "  'ML-YouTube-Courses.json',\n",
       "  'Qix.json',\n",
       "  'stanford-cs-229-machine-learning.json'],\n",
       " 3: ['annotated_deep_learning_paper_implementations.json',\n",
       "  'd2l-zh.json',\n",
       "  'paper-reading.json',\n",
       "  'pytorch-lightning.json',\n",
       "  'pytorch-tutorial.json',\n",
       "  'transformers.json',\n",
       "  '100-Days-Of-ML-Code_2.json',\n",
       "  'Awesome-pytorch-list.json',\n",
       "  'CVPR2024-Papers-with-Code.json',\n",
       "  'deep-learning-for-image-processing.json',\n",
       "  'Dive-into-DL-PyTorch.json',\n",
       "  'learnopencv.json',\n",
       "  'ML-NLP.json',\n",
       "  'Paddle.json',\n",
       "  'pytorch-CycleGAN-and-pix2pix.json',\n",
       "  'pytorch-handbook.json',\n",
       "  'pytorch_geometric.json',\n",
       "  'qlib.json',\n",
       "  'recommenders.json',\n",
       "  'TensorFlow-Course.json']}"
      ]
     },
     "execution_count": 12,
     "metadata": {},
     "output_type": "execute_result"
    }
   ],
   "source": [
    "labelRepoName_Kcenters"
   ]
  },
  {
   "cell_type": "code",
   "execution_count": 24,
   "metadata": {},
   "outputs": [
    {
     "data": {
      "text/plain": [
       "0.2746972754913583"
      ]
     },
     "execution_count": 24,
     "metadata": {},
     "output_type": "execute_result"
    }
   ],
   "source": [
    "# get_modularity(input_matrix=adjacency, labels=repoLabels_Kcenters, labels_col=userLabels_Kcenters)"
   ]
  },
  {
   "cell_type": "markdown",
   "metadata": {},
   "source": [
    "## Propogation"
   ]
  },
  {
   "cell_type": "code",
   "execution_count": 39,
   "metadata": {},
   "outputs": [
    {
     "data": {
      "text/plain": [
       "(1, 1)"
      ]
     },
     "execution_count": 39,
     "metadata": {},
     "output_type": "execute_result"
    }
   ],
   "source": [
    "from sknetwork.clustering import PropagationClustering\n",
    "\n",
    "propogation = PropagationClustering(n_iter=5)\n",
    "propogation.fit(adjacency)\n",
    "\n",
    "repoLabels_Propogation = propogation.labels_row_\n",
    "userLabels_Propogation = propogation.labels_col_\n",
    "\n",
    "len(set(userLabels_Propogation)), len(set(userLabels_Propogation))"
   ]
  },
  {
   "cell_type": "code",
   "execution_count": 26,
   "metadata": {},
   "outputs": [
    {
     "data": {
      "text/plain": [
       "Counter({0: 100})"
      ]
     },
     "execution_count": 26,
     "metadata": {},
     "output_type": "execute_result"
    }
   ],
   "source": [
    "Counter(repoLabels_Propogation)"
   ]
  },
  {
   "cell_type": "code",
   "execution_count": 27,
   "metadata": {},
   "outputs": [
    {
     "data": {
      "text/plain": [
       "100"
      ]
     },
     "execution_count": 27,
     "metadata": {},
     "output_type": "execute_result"
    }
   ],
   "source": [
    "repoNameLabel_Propogation = {}\n",
    "\n",
    "for repo, label in zip(repos, repoLabels_Propogation):\n",
    "    repoNameLabel_Propogation[repo] = label\n",
    "\n",
    "len(repoNameLabel_Propogation)"
   ]
  },
  {
   "cell_type": "code",
   "execution_count": 28,
   "metadata": {},
   "outputs": [
    {
     "data": {
      "text/plain": [
       "1"
      ]
     },
     "execution_count": 28,
     "metadata": {},
     "output_type": "execute_result"
    }
   ],
   "source": [
    "labelRepoName_Propogation = {}\n",
    "for l in set(repoLabels_Propogation):\n",
    "    labelRepoName_Propogation[l] = []\n",
    "\n",
    "for repo, label in zip(repos, repoLabels_Propogation):\n",
    "    labelRepoName_Propogation[label].append(repo)\n",
    "\n",
    "len(labelRepoName_Propogation)"
   ]
  },
  {
   "cell_type": "code",
   "execution_count": 29,
   "metadata": {},
   "outputs": [
    {
     "data": {
      "text/plain": [
       "{0: ['100-Days-Of-ML-Code.json',\n",
       "  'AI-Expert-Roadmap.json',\n",
       "  'AI-For-Beginners.json',\n",
       "  'annotated_deep_learning_paper_implementations.json',\n",
       "  'applied-ml.json',\n",
       "  'awesome-datascience.json',\n",
       "  'awesome-deep-learning-papers.json',\n",
       "  'caffe.json',\n",
       "  'ColossalAI.json',\n",
       "  'cs-video-courses.json',\n",
       "  'd2l-zh.json',\n",
       "  'data-science-ipython-notebooks.json',\n",
       "  'Deep-Learning-Papers-Reading-Roadmap.json',\n",
       "  'DeepFaceLab.json',\n",
       "  'DeepSpeech.json',\n",
       "  'DeepSpeed.json',\n",
       "  'faceswap.json',\n",
       "  'fastai.json',\n",
       "  'GFPGAN.json',\n",
       "  'gradio.json',\n",
       "  'handson-ml.json',\n",
       "  'keras.json',\n",
       "  'machine-learning-for-software-engineers.json',\n",
       "  'Made-With-ML.json',\n",
       "  'mediapipe.json',\n",
       "  'ML-From-Scratch.json',\n",
       "  'MockingBird.json',\n",
       "  'netron.json',\n",
       "  'opencv.json',\n",
       "  'openpose.json',\n",
       "  'paper-reading.json',\n",
       "  'Prompt-Engineering-Guide.json',\n",
       "  'pytorch-lightning.json',\n",
       "  'pytorch-tutorial.json',\n",
       "  'pytorch.json',\n",
       "  'ray.json',\n",
       "  'Real-Time-Voice-Cloning.json',\n",
       "  'so-vits-svc.json',\n",
       "  'spaCy.json',\n",
       "  'spleeter.json',\n",
       "  'stable-diffusion-webui.json',\n",
       "  'stanford_alpaca.json',\n",
       "  'streamlit.json',\n",
       "  'TensorFlow-Examples.json',\n",
       "  'tensorflow.json',\n",
       "  'tesseract.js.json',\n",
       "  'transformers.json',\n",
       "  'TTS.json',\n",
       "  'ultralytics.json',\n",
       "  'yolov5.json',\n",
       "  '100-Days-Of-ML-Code_2.json',\n",
       "  '500-AI-Machine-learning-Deep-learning-Computer-vision-NLP-Projects-with-code.json',\n",
       "  'awesome-deep-learning.json',\n",
       "  'awesome-nlp.json',\n",
       "  'awesome-production-machine-learning.json',\n",
       "  'Awesome-pytorch-list.json',\n",
       "  'best-of-ml-python.json',\n",
       "  'cheatsheets-ai.json',\n",
       "  'CLIP.json',\n",
       "  'CNTK.json',\n",
       "  'CVPR2024-Papers-with-Code.json',\n",
       "  'd2l-en.json',\n",
       "  'datasets.json',\n",
       "  'deep-learning-for-image-processing.json',\n",
       "  'diffusers.json',\n",
       "  'Dive-into-DL-PyTorch.json',\n",
       "  'EasyOCR.json',\n",
       "  'fastbook.json',\n",
       "  'first-order-model.json',\n",
       "  'horovod.json',\n",
       "  'imgaug.json',\n",
       "  'ivy.json',\n",
       "  'JARVIS.json',\n",
       "  'jina.json',\n",
       "  'label-studio.json',\n",
       "  'labelImg.json',\n",
       "  'learnopencv.json',\n",
       "  'lectures.json',\n",
       "  'Machine-Learning-Tutorials.json',\n",
       "  'ml-agents.json',\n",
       "  'ML-NLP.json',\n",
       "  'ML-YouTube-Courses.json',\n",
       "  'ncnn.json',\n",
       "  'onnx.json',\n",
       "  'openface.json',\n",
       "  'Paddle.json',\n",
       "  'pytorch-CycleGAN-and-pix2pix.json',\n",
       "  'pytorch-handbook.json',\n",
       "  'pytorch_geometric.json',\n",
       "  'Qix.json',\n",
       "  'qlib.json',\n",
       "  'recommenders.json',\n",
       "  'Screenshot-to-code.json',\n",
       "  'shap.json',\n",
       "  'stable-diffusion-webui-colab.json',\n",
       "  'stanford-cs-229-machine-learning.json',\n",
       "  'supervision.json',\n",
       "  'tensor2tensor.json',\n",
       "  'TensorFlow-Course.json',\n",
       "  'tfjs.json']}"
      ]
     },
     "execution_count": 29,
     "metadata": {},
     "output_type": "execute_result"
    }
   ],
   "source": [
    "labelRepoName_Propogation"
   ]
  },
  {
   "cell_type": "code",
   "execution_count": 30,
   "metadata": {},
   "outputs": [
    {
     "data": {
      "text/plain": [
       "-1.162980822755344e-11"
      ]
     },
     "execution_count": 30,
     "metadata": {},
     "output_type": "execute_result"
    }
   ],
   "source": [
    "get_modularity(input_matrix=adjacency, labels=repoLabels_Propogation, labels_col=userLabels_Propogation)"
   ]
  }
 ],
 "metadata": {
  "kernelspec": {
   "display_name": "Python 3",
   "language": "python",
   "name": "python3"
  },
  "language_info": {
   "codemirror_mode": {
    "name": "ipython",
    "version": 3
   },
   "file_extension": ".py",
   "mimetype": "text/x-python",
   "name": "python",
   "nbconvert_exporter": "python",
   "pygments_lexer": "ipython3",
   "version": "3.11.1"
  }
 },
 "nbformat": 4,
 "nbformat_minor": 2
}
