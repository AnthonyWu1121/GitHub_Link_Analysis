{
 "cells": [
  {
   "cell_type": "code",
   "execution_count": 1,
   "metadata": {},
   "outputs": [],
   "source": [
    "import os\n",
    "import json\n",
    "from collections import Counter"
   ]
  },
  {
   "cell_type": "code",
   "execution_count": 2,
   "metadata": {},
   "outputs": [],
   "source": [
    "repos = {}"
   ]
  },
  {
   "cell_type": "code",
   "execution_count": 3,
   "metadata": {},
   "outputs": [
    {
     "data": {
      "text/plain": [
       "50"
      ]
     },
     "execution_count": 3,
     "metadata": {},
     "output_type": "execute_result"
    }
   ],
   "source": [
    "repoInfos = os.listdir('repo_info')\n",
    "for file in repoInfos:\n",
    "    if not file.endswith('.json'):\n",
    "        repoInfos.remove(file)\n",
    "    if file == '00_repo_names.json':\n",
    "        repoInfos.remove(file)\n",
    "\n",
    "len(repoInfos)"
   ]
  },
  {
   "cell_type": "code",
   "execution_count": 4,
   "metadata": {},
   "outputs": [],
   "source": [
    "for file in repoInfos:\n",
    "    with open('repo_info/' + file,  'r') as f:\n",
    "        data = json.load(f)\n",
    "        repos[file.replace('.json', '')] = data"
   ]
  },
  {
   "cell_type": "code",
   "execution_count": 5,
   "metadata": {},
   "outputs": [
    {
     "data": {
      "text/plain": [
       "50"
      ]
     },
     "execution_count": 5,
     "metadata": {},
     "output_type": "execute_result"
    }
   ],
   "source": [
    "repoInfos = os.listdir('repo_info2')\n",
    "for file in repoInfos:\n",
    "    if not file.endswith('.json'):\n",
    "        repoInfos.remove(file)\n",
    "    if file == '00_repo_names.json':\n",
    "        repoInfos.remove(file)\n",
    "\n",
    "len(repoInfos)"
   ]
  },
  {
   "cell_type": "code",
   "execution_count": 6,
   "metadata": {},
   "outputs": [],
   "source": [
    "for file in repoInfos:\n",
    "    with open('repo_info2/' + file,  'r') as f:\n",
    "        data = json.load(f)\n",
    "        repos[file.replace('.json', '')] = data"
   ]
  },
  {
   "cell_type": "code",
   "execution_count": 7,
   "metadata": {},
   "outputs": [
    {
     "data": {
      "text/plain": [
       "100"
      ]
     },
     "execution_count": 7,
     "metadata": {},
     "output_type": "execute_result"
    }
   ],
   "source": [
    "len(repos)"
   ]
  },
  {
   "cell_type": "markdown",
   "metadata": {},
   "source": [
    "## Get Topics Encoding"
   ]
  },
  {
   "cell_type": "code",
   "execution_count": 8,
   "metadata": {},
   "outputs": [
    {
     "data": {
      "text/plain": [
       "494"
      ]
     },
     "execution_count": 8,
     "metadata": {},
     "output_type": "execute_result"
    }
   ],
   "source": [
    "all_topics = {}\n",
    "for repo in repos:\n",
    "    topic_list = repos[repo]['topics']\n",
    "    for topic in topic_list:\n",
    "        if topic not in all_topics:\n",
    "            all_topics[topic] = 1\n",
    "        else:\n",
    "            all_topics[topic] += 1\n",
    "\n",
    "len(all_topics)"
   ]
  },
  {
   "cell_type": "code",
   "execution_count": 9,
   "metadata": {},
   "outputs": [
    {
     "data": {
      "text/plain": [
       "Counter({1: 371,\n",
       "         97: 1,\n",
       "         2: 68,\n",
       "         71: 1,\n",
       "         33: 2,\n",
       "         5: 5,\n",
       "         4: 15,\n",
       "         11: 2,\n",
       "         9: 2,\n",
       "         20: 2,\n",
       "         16: 2,\n",
       "         3: 14,\n",
       "         7: 2,\n",
       "         12: 1,\n",
       "         6: 4,\n",
       "         8: 1,\n",
       "         10: 1})"
      ]
     },
     "execution_count": 9,
     "metadata": {},
     "output_type": "execute_result"
    }
   ],
   "source": [
    "Counter(all_topics.values())"
   ]
  },
  {
   "cell_type": "code",
   "execution_count": 10,
   "metadata": {},
   "outputs": [
    {
     "data": {
      "text/plain": [
       "123"
      ]
     },
     "execution_count": 10,
     "metadata": {},
     "output_type": "execute_result"
    }
   ],
   "source": [
    "all_topics = {k: v for k, v in all_topics.items() if v > 1}\n",
    "len(all_topics)"
   ]
  },
  {
   "cell_type": "code",
   "execution_count": 11,
   "metadata": {},
   "outputs": [
    {
     "data": {
      "text/plain": [
       "123"
      ]
     },
     "execution_count": 11,
     "metadata": {},
     "output_type": "execute_result"
    }
   ],
   "source": [
    "default_topic_vector = {topic: 0 for topic in all_topics}\n",
    "len(default_topic_vector)"
   ]
  },
  {
   "cell_type": "code",
   "execution_count": 12,
   "metadata": {},
   "outputs": [],
   "source": [
    "for repo in repos:\n",
    "    topic_list = repos[repo]['topics']\n",
    "    topic_vector = default_topic_vector.copy()\n",
    "    for topic in topic_list:\n",
    "        if topic in topic_vector:\n",
    "            topic_vector[topic] = 1\n",
    "    repos[repo]['topic_vector'] = topic_vector"
   ]
  },
  {
   "cell_type": "code",
   "execution_count": 13,
   "metadata": {},
   "outputs": [],
   "source": [
    "with open('repoTopicVec.json', 'w+') as f:\n",
    "    json.dump(repos, f)"
   ]
  }
 ],
 "metadata": {
  "kernelspec": {
   "display_name": "Python 3",
   "language": "python",
   "name": "python3"
  },
  "language_info": {
   "codemirror_mode": {
    "name": "ipython",
    "version": 3
   },
   "file_extension": ".py",
   "mimetype": "text/x-python",
   "name": "python",
   "nbconvert_exporter": "python",
   "pygments_lexer": "ipython3",
   "version": "3.11.1"
  }
 },
 "nbformat": 4,
 "nbformat_minor": 2
}
