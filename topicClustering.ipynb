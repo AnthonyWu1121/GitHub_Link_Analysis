{
 "cells": [
  {
   "cell_type": "code",
   "execution_count": 1,
   "metadata": {},
   "outputs": [],
   "source": [
    "import json\n",
    "from sklearn import cluster\n",
    "from collections import Counter\n",
    "import matplotlib.pyplot as plt"
   ]
  },
  {
   "cell_type": "code",
   "execution_count": 3,
   "metadata": {},
   "outputs": [],
   "source": [
    "with open('repoTopicVec.json') as f:\n",
    "    repos = json.load(f)"
   ]
  },
  {
   "cell_type": "code",
   "execution_count": 4,
   "metadata": {},
   "outputs": [
    {
     "data": {
      "text/plain": [
       "(100, 123)"
      ]
     },
     "execution_count": 4,
     "metadata": {},
     "output_type": "execute_result"
    }
   ],
   "source": [
    "topicVec = []\n",
    "for repo in repos:\n",
    "    vector = repos[repo]['topic_vector']\n",
    "    topicVec.append(list(vector.values()))\n",
    "\n",
    "len(topicVec), len(topicVec[0])"
   ]
  },
  {
   "cell_type": "markdown",
   "metadata": {},
   "source": [
    "## KMeans"
   ]
  },
  {
   "cell_type": "code",
   "execution_count": 5,
   "metadata": {},
   "outputs": [
    {
     "data": {
      "image/png": "[encoded data removed]",
      "text/plain": [
       "<Figure size 640x480 with 1 Axes>"
      ]
     },
     "metadata": {},
     "output_type": "display_data"
    }
   ],
   "source": [
    "inertias = []\n",
    "for k in range(1, 11):\n",
    "    kmeans = cluster.KMeans(n_clusters=k, random_state=42)\n",
    "    kmeans.fit(topicVec)\n",
    "    inertias.append(kmeans.inertia_)\n",
    "\n",
    "plt.plot(range(1,11), inertias, marker='o')\n",
    "plt.title('Elbow method')\n",
    "plt.xlabel('Number of clusters')\n",
    "plt.ylabel('Inertia')\n",
    "plt.show()"
   ]
  },
  {
   "cell_type": "code",
   "execution_count": 6,
   "metadata": {},
   "outputs": [
    {
     "data": {
      "text/plain": [
       "4"
      ]
     },
     "execution_count": 6,
     "metadata": {},
     "output_type": "execute_result"
    }
   ],
   "source": [
    "kmeans = cluster.KMeans(n_clusters=4, random_state=42)\n",
    "kmeans.fit(topicVec)\n",
    "repoLabels_Kmeans = kmeans.labels_\n",
    "len(set(repoLabels_Kmeans))"
   ]
  },
  {
   "cell_type": "code",
   "execution_count": 7,
   "metadata": {},
   "outputs": [
    {
     "data": {
      "text/plain": [
       "Counter({1: 63, 2: 20, 0: 13, 3: 4})"
      ]
     },
     "execution_count": 7,
     "metadata": {},
     "output_type": "execute_result"
    }
   ],
   "source": [
    "Counter(repoLabels_Kmeans)"
   ]
  },
  {
   "cell_type": "code",
   "execution_count": 8,
   "metadata": {},
   "outputs": [
    {
     "data": {
      "text/plain": [
       "4"
      ]
     },
     "execution_count": 8,
     "metadata": {},
     "output_type": "execute_result"
    }
   ],
   "source": [
    "labelRepoName_Kmeans = {}\n",
    "for l in set(repoLabels_Kmeans):\n",
    "    labelRepoName_Kmeans[l] = []\n",
    "\n",
    "for repo, label in zip(repos, repoLabels_Kmeans):\n",
    "    labelRepoName_Kmeans[label].append(repo)\n",
    "\n",
    "len(labelRepoName_Kmeans)"
   ]
  },
  {
   "cell_type": "code",
   "execution_count": 9,
   "metadata": {},
   "outputs": [
    {
     "data": {
      "text/plain": [
       "{0: ['GFPGAN',\n",
       "  'MockingBird',\n",
       "  'pytorch-tutorial',\n",
       "  'Real-Time-Voice-Cloning',\n",
       "  'so-vits-svc',\n",
       "  'stable-diffusion-webui',\n",
       "  'TTS',\n",
       "  'datasets',\n",
       "  'deep-learning-for-image-processing',\n",
       "  'diffusers',\n",
       "  'Dive-into-DL-PyTorch',\n",
       "  'pytorch-CycleGAN-and-pix2pix',\n",
       "  'pytorch_geometric'],\n",
       " 1: ['100-Days-Of-ML-Code',\n",
       "  'AI-For-Beginners',\n",
       "  'annotated_deep_learning_paper_implementations',\n",
       "  'awesome-deep-learning-papers',\n",
       "  'caffe',\n",
       "  'ColossalAI',\n",
       "  'cs-video-courses',\n",
       "  'd2l-zh',\n",
       "  'Deep-Learning-Papers-Reading-Roadmap',\n",
       "  'DeepFaceLab',\n",
       "  'DeepSpeech',\n",
       "  'DeepSpeed',\n",
       "  'faceswap',\n",
       "  'fastai',\n",
       "  'handson-ml',\n",
       "  'machine-learning-for-software-engineers',\n",
       "  'mediapipe',\n",
       "  'ML-From-Scratch',\n",
       "  'opencv',\n",
       "  'openpose',\n",
       "  'paper-reading',\n",
       "  'Prompt-Engineering-Guide',\n",
       "  'pytorch',\n",
       "  'spleeter',\n",
       "  'stanford_alpaca',\n",
       "  'TensorFlow-Examples',\n",
       "  'tensorflow',\n",
       "  'tesseract.js',\n",
       "  'ultralytics',\n",
       "  'yolov5',\n",
       "  '100-Days-Of-ML-Code_2',\n",
       "  'awesome-deep-learning',\n",
       "  'awesome-nlp',\n",
       "  'awesome-production-machine-learning',\n",
       "  'cheatsheets-ai',\n",
       "  'CLIP',\n",
       "  'CNTK',\n",
       "  'CVPR2024-Papers-with-Code',\n",
       "  'EasyOCR',\n",
       "  'first-order-model',\n",
       "  'imgaug',\n",
       "  'JARVIS',\n",
       "  'jina',\n",
       "  'label-studio',\n",
       "  'labelImg',\n",
       "  'learnopencv',\n",
       "  'lectures',\n",
       "  'Machine-Learning-Tutorials',\n",
       "  'ml-agents',\n",
       "  'ML-NLP',\n",
       "  'openface',\n",
       "  'Paddle',\n",
       "  'pytorch-handbook',\n",
       "  'Qix',\n",
       "  'qlib',\n",
       "  'Screenshot-to-code',\n",
       "  'shap',\n",
       "  'stable-diffusion-webui-colab',\n",
       "  'stanford-cs-229-machine-learning',\n",
       "  'supervision',\n",
       "  'tensor2tensor',\n",
       "  'TensorFlow-Course',\n",
       "  'tfjs'],\n",
       " 2: ['AI-Expert-Roadmap',\n",
       "  'applied-ml',\n",
       "  'awesome-datascience',\n",
       "  'data-science-ipython-notebooks',\n",
       "  'gradio',\n",
       "  'keras',\n",
       "  'Made-With-ML',\n",
       "  'pytorch-lightning',\n",
       "  'ray',\n",
       "  'spaCy',\n",
       "  'streamlit',\n",
       "  'transformers',\n",
       "  '500-AI-Machine-learning-Deep-learning-Computer-vision-NLP-Projects-with-code',\n",
       "  'Awesome-pytorch-list',\n",
       "  'best-of-ml-python',\n",
       "  'd2l-en',\n",
       "  'fastbook',\n",
       "  'ivy',\n",
       "  'ML-YouTube-Courses',\n",
       "  'recommenders'],\n",
       " 3: ['netron', 'horovod', 'ncnn', 'onnx']}"
      ]
     },
     "execution_count": 9,
     "metadata": {},
     "output_type": "execute_result"
    }
   ],
   "source": [
    "labelRepoName_Kmeans"
   ]
  },
  {
   "cell_type": "markdown",
   "metadata": {},
   "source": [
    "## DBSCAN"
   ]
  },
  {
   "cell_type": "code",
   "execution_count": 22,
   "metadata": {},
   "outputs": [
    {
     "data": {
      "text/plain": [
       "5"
      ]
     },
     "execution_count": 22,
     "metadata": {},
     "output_type": "execute_result"
    }
   ],
   "source": [
    "dbscan = cluster.DBSCAN(eps=0.5, min_samples=2)\n",
    "repoLabels_DBSCAN = dbscan.fit_predict(topicVec)\n",
    "len(set(repoLabels_DBSCAN))"
   ]
  },
  {
   "cell_type": "code",
   "execution_count": 23,
   "metadata": {},
   "outputs": [
    {
     "data": {
      "text/plain": [
       "Counter({-1: 90, 0: 2, 1: 3, 2: 2, 3: 3})"
      ]
     },
     "execution_count": 23,
     "metadata": {},
     "output_type": "execute_result"
    }
   ],
   "source": [
    "Counter(repoLabels_DBSCAN)"
   ]
  },
  {
   "cell_type": "markdown",
   "metadata": {},
   "source": [
    "## HDBSCAN"
   ]
  },
  {
   "cell_type": "code",
   "execution_count": 68,
   "metadata": {},
   "outputs": [
    {
     "data": {
      "text/plain": [
       "19"
      ]
     },
     "execution_count": 68,
     "metadata": {},
     "output_type": "execute_result"
    }
   ],
   "source": [
    "hdbscan = cluster.HDBSCAN(min_cluster_size=2)\n",
    "repoLabels_HDBSCAN = hdbscan.fit_predict(topicVec)\n",
    "len(set(repoLabels_HDBSCAN))"
   ]
  },
  {
   "cell_type": "code",
   "execution_count": 69,
   "metadata": {},
   "outputs": [
    {
     "data": {
      "text/plain": [
       "Counter({-1: 59,\n",
       "         5: 2,\n",
       "         13: 3,\n",
       "         3: 2,\n",
       "         16: 3,\n",
       "         0: 2,\n",
       "         6: 2,\n",
       "         17: 3,\n",
       "         10: 2,\n",
       "         4: 3,\n",
       "         7: 2,\n",
       "         12: 2,\n",
       "         9: 2,\n",
       "         11: 2,\n",
       "         2: 2,\n",
       "         1: 2,\n",
       "         8: 2,\n",
       "         15: 3,\n",
       "         14: 2})"
      ]
     },
     "execution_count": 69,
     "metadata": {},
     "output_type": "execute_result"
    }
   ],
   "source": [
    "Counter(repoLabels_HDBSCAN)"
   ]
  },
  {
   "cell_type": "code",
   "execution_count": 70,
   "metadata": {},
   "outputs": [
    {
     "data": {
      "text/plain": [
       "19"
      ]
     },
     "execution_count": 70,
     "metadata": {},
     "output_type": "execute_result"
    }
   ],
   "source": [
    "labelRepoName_HDBSCAN = {}\n",
    "for l in set(repoLabels_HDBSCAN):\n",
    "    labelRepoName_HDBSCAN[l] = []\n",
    "\n",
    "for repo, label in zip(repos, repoLabels_HDBSCAN):\n",
    "    labelRepoName_HDBSCAN[label].append(repo)\n",
    "\n",
    "len(labelRepoName_HDBSCAN)"
   ]
  },
  {
   "cell_type": "code",
   "execution_count": 71,
   "metadata": {},
   "outputs": [
    {
     "data": {
      "text/plain": [
       "{0: ['DeepFaceLab', 'faceswap'],\n",
       " 1: ['ultralytics', 'yolov5'],\n",
       " 2: ['stable-diffusion-webui', 'diffusers'],\n",
       " 3: ['ColossalAI', 'DeepSpeed'],\n",
       " 4: ['handson-ml', 'tensorflow', 'CNTK'],\n",
       " 5: ['AI-Expert-Roadmap', 'pytorch-lightning'],\n",
       " 6: ['fastai', 'fastbook'],\n",
       " 7: ['MockingBird', 'TTS'],\n",
       " 8: ['awesome-deep-learning', 'Machine-Learning-Tutorials'],\n",
       " 9: ['pytorch', 'ivy'],\n",
       " 10: ['gradio', 'streamlit'],\n",
       " 11: ['spleeter', 'TensorFlow-Course'],\n",
       " 12: ['Prompt-Engineering-Guide', 'stanford_alpaca'],\n",
       " 13: ['caffe', 'CLIP', 'tensor2tensor'],\n",
       " 14: ['lectures', 'ML-NLP'],\n",
       " 15: ['JARVIS', 'stable-diffusion-webui-colab', 'supervision'],\n",
       " 16: ['Deep-Learning-Papers-Reading-Roadmap', 'first-order-model', 'openface'],\n",
       " 17: ['GFPGAN', 'deep-learning-for-image-processing', 'pytorch_geometric'],\n",
       " -1: ['100-Days-Of-ML-Code',\n",
       "  'AI-For-Beginners',\n",
       "  'annotated_deep_learning_paper_implementations',\n",
       "  'applied-ml',\n",
       "  'awesome-datascience',\n",
       "  'awesome-deep-learning-papers',\n",
       "  'cs-video-courses',\n",
       "  'd2l-zh',\n",
       "  'data-science-ipython-notebooks',\n",
       "  'DeepSpeech',\n",
       "  'keras',\n",
       "  'machine-learning-for-software-engineers',\n",
       "  'Made-With-ML',\n",
       "  'mediapipe',\n",
       "  'ML-From-Scratch',\n",
       "  'netron',\n",
       "  'opencv',\n",
       "  'openpose',\n",
       "  'paper-reading',\n",
       "  'pytorch-tutorial',\n",
       "  'ray',\n",
       "  'Real-Time-Voice-Cloning',\n",
       "  'so-vits-svc',\n",
       "  'spaCy',\n",
       "  'TensorFlow-Examples',\n",
       "  'tesseract.js',\n",
       "  'transformers',\n",
       "  '100-Days-Of-ML-Code_2',\n",
       "  '500-AI-Machine-learning-Deep-learning-Computer-vision-NLP-Projects-with-code',\n",
       "  'awesome-nlp',\n",
       "  'awesome-production-machine-learning',\n",
       "  'Awesome-pytorch-list',\n",
       "  'best-of-ml-python',\n",
       "  'cheatsheets-ai',\n",
       "  'CVPR2024-Papers-with-Code',\n",
       "  'd2l-en',\n",
       "  'datasets',\n",
       "  'Dive-into-DL-PyTorch',\n",
       "  'EasyOCR',\n",
       "  'horovod',\n",
       "  'imgaug',\n",
       "  'jina',\n",
       "  'label-studio',\n",
       "  'labelImg',\n",
       "  'learnopencv',\n",
       "  'ml-agents',\n",
       "  'ML-YouTube-Courses',\n",
       "  'ncnn',\n",
       "  'onnx',\n",
       "  'Paddle',\n",
       "  'pytorch-CycleGAN-and-pix2pix',\n",
       "  'pytorch-handbook',\n",
       "  'Qix',\n",
       "  'qlib',\n",
       "  'recommenders',\n",
       "  'Screenshot-to-code',\n",
       "  'shap',\n",
       "  'stanford-cs-229-machine-learning',\n",
       "  'tfjs']}"
      ]
     },
     "execution_count": 71,
     "metadata": {},
     "output_type": "execute_result"
    }
   ],
   "source": [
    "labelRepoName_HDBSCAN"
   ]
  }
 ],
 "metadata": {
  "kernelspec": {
   "display_name": "Python 3",
   "language": "python",
   "name": "python3"
  },
  "language_info": {
   "codemirror_mode": {
    "name": "ipython",
    "version": 3
   },
   "file_extension": ".py",
   "mimetype": "text/x-python",
   "name": "python",
   "nbconvert_exporter": "python",
   "pygments_lexer": "ipython3",
   "version": "3.11.1"
  }
 },
 "nbformat": 4,
 "nbformat_minor": 2
}
