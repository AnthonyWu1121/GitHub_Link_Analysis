{
 "cells": [
  {
   "cell_type": "code",
   "execution_count": 1,
   "metadata": {},
   "outputs": [],
   "source": [
    "import json\n",
    "import os\n",
    "import numpy as np\n",
    "import networkx as nx\n",
    "from networkx.algorithms import bipartite\n",
    "import sknetwork as skn\n",
    "from collections import Counter"
   ]
  },
  {
   "cell_type": "code",
   "execution_count": 2,
   "metadata": {},
   "outputs": [
    {
     "data": {
      "text/plain": [
       "100"
      ]
     },
     "execution_count": 2,
     "metadata": {},
     "output_type": "execute_result"
    }
   ],
   "source": [
    "repos = os.listdir('repo_info')\n",
    "repos.extend(os.listdir('repo_info2'))\n",
    "for file in repos:\n",
    "    if not file.endswith('.json'):\n",
    "        repos.remove(file)\n",
    "    if file == '00_repo_names.json':\n",
    "        repos.remove(file)\n",
    "\n",
    "# repos = list(map(lambda x : x.replace(\".json\", ''), repos))\n",
    "len(repos)"
   ]
  },
  {
   "cell_type": "code",
   "execution_count": 3,
   "metadata": {},
   "outputs": [
    {
     "data": {
      "text/plain": [
       "100"
      ]
     },
     "execution_count": 3,
     "metadata": {},
     "output_type": "execute_result"
    }
   ],
   "source": [
    "contrib_path = 'new_contrib_info'\n",
    "contribs_file = os.listdir(contrib_path)\n",
    "\n",
    "len(contribs_file)"
   ]
  },
  {
   "cell_type": "code",
   "execution_count": 4,
   "metadata": {},
   "outputs": [
    {
     "name": "stdout",
     "output_type": "stream",
     "text": [
      "100-Days-Of-ML-Code.json\n",
      "100-Days-Of-ML-Code_2.json\n",
      "500-AI-Machine-learning-Deep-learning-Computer-vision-NLP-Projects-with-code.json\n",
      "AI-Expert-Roadmap.json\n",
      "AI-For-Beginners.json\n",
      "annotated_deep_learning_paper_implementations.json\n",
      "applied-ml.json\n",
      "awesome-datascience.json\n",
      "awesome-deep-learning-papers.json\n",
      "awesome-deep-learning.json\n",
      "awesome-nlp.json\n",
      "awesome-production-machine-learning.json\n",
      "Awesome-pytorch-list.json\n",
      "best-of-ml-python.json\n",
      "caffe.json\n",
      "cheatsheets-ai.json\n",
      "CLIP.json\n",
      "CNTK.json\n",
      "ColossalAI.json\n",
      "cs-video-courses.json\n",
      "CVPR2024-Papers-with-Code.json\n",
      "d2l-en.json\n",
      "d2l-zh.json\n",
      "data-science-ipython-notebooks.json\n",
      "datasets.json\n",
      "deep-learning-for-image-processing.json\n",
      "Deep-Learning-Papers-Reading-Roadmap.json\n",
      "DeepFaceLab.json\n",
      "DeepSpeech.json\n",
      "DeepSpeed.json\n",
      "diffusers.json\n",
      "Dive-into-DL-PyTorch.json\n",
      "EasyOCR.json\n",
      "faceswap.json\n",
      "fastai.json\n",
      "fastbook.json\n",
      "first-order-model.json\n",
      "GFPGAN.json\n",
      "gradio.json\n",
      "handson-ml.json\n",
      "horovod.json\n",
      "imgaug.json\n",
      "ivy.json\n",
      "JARVIS.json\n",
      "jina.json\n",
      "keras.json\n",
      "label-studio.json\n",
      "labelImg.json\n",
      "learnopencv.json\n",
      "lectures.json\n",
      "machine-learning-for-software-engineers.json\n",
      "Machine-Learning-Tutorials.json\n",
      "Made-With-ML.json\n",
      "mediapipe.json\n",
      "ml-agents.json\n",
      "ML-From-Scratch.json\n",
      "ML-NLP.json\n",
      "ML-YouTube-Courses.json\n",
      "MockingBird.json\n",
      "ncnn.json\n",
      "netron.json\n",
      "onnx.json\n",
      "opencv.json\n",
      "openface.json\n",
      "openpose.json\n",
      "Paddle.json\n",
      "paper-reading.json\n",
      "Prompt-Engineering-Guide.json\n",
      "pytorch-CycleGAN-and-pix2pix.json\n",
      "pytorch-handbook.json\n",
      "pytorch-lightning.json\n",
      "pytorch-tutorial.json\n",
      "pytorch.json\n",
      "pytorch_geometric.json\n",
      "Qix.json\n",
      "qlib.json\n",
      "ray.json\n",
      "Real-Time-Voice-Cloning.json\n",
      "recommenders.json\n",
      "Screenshot-to-code.json\n",
      "shap.json\n",
      "so-vits-svc.json\n",
      "spaCy.json\n",
      "spleeter.json\n",
      "stable-diffusion-webui-colab.json\n",
      "stable-diffusion-webui.json\n",
      "stanford-cs-229-machine-learning.json\n",
      "stanford_alpaca.json\n",
      "streamlit.json\n",
      "supervision.json\n",
      "tensor2tensor.json\n",
      "TensorFlow-Course.json\n",
      "TensorFlow-Examples.json\n",
      "tensorflow.json\n",
      "tesseract.js.json\n",
      "tfjs.json\n",
      "transformers.json\n",
      "TTS.json\n",
      "ultralytics.json\n",
      "yolov5.json\n"
     ]
    }
   ],
   "source": [
    "edges = []\n",
    "users = set()\n",
    "for repoName in contribs_file:\n",
    "    with open(contrib_path + '/' + repoName, 'r') as f:\n",
    "        data = json.load(f)\n",
    "        # repoName = repoName.replace('.json', '')  # there is a user and a repo both named keras, so we keep the repo name with .json\n",
    "        print(repoName)\n",
    "\n",
    "        for user in data:\n",
    "            username = user['username']\n",
    "            edges.append((repoName, username))\n",
    "            if repoName not in repos:\n",
    "                print(repoName)\n",
    "                print(username)\n",
    "            users.add(username)"
   ]
  },
  {
   "cell_type": "code",
   "execution_count": 6,
   "metadata": {},
   "outputs": [
    {
     "data": {
      "text/plain": [
       "11977"
      ]
     },
     "execution_count": 6,
     "metadata": {},
     "output_type": "execute_result"
    }
   ],
   "source": [
    "len(users)"
   ]
  },
  {
   "cell_type": "code",
   "execution_count": 7,
   "metadata": {},
   "outputs": [],
   "source": [
    "B = nx.Graph()\n",
    "\n",
    "B.add_nodes_from(repos, bipartite=0)\n",
    "B.add_nodes_from(users, bipartite=1)\n",
    "\n",
    "B.add_edges_from(edges)"
   ]
  },
  {
   "cell_type": "code",
   "execution_count": 12,
   "metadata": {},
   "outputs": [
    {
     "data": {
      "text/plain": [
       "12077"
      ]
     },
     "execution_count": 12,
     "metadata": {},
     "output_type": "execute_result"
    }
   ],
   "source": [
    "len(B.nodes)"
   ]
  },
  {
   "cell_type": "code",
   "execution_count": 9,
   "metadata": {},
   "outputs": [],
   "source": [
    "degX, degY = bipartite.degrees(B, repos)"
   ]
  },
  {
   "cell_type": "code",
   "execution_count": 10,
   "metadata": {},
   "outputs": [
    {
     "data": {
      "text/plain": [
       "Counter({1: 10977,\n",
       "         2: 773,\n",
       "         3: 155,\n",
       "         17: 1,\n",
       "         4: 42,\n",
       "         7: 4,\n",
       "         5: 14,\n",
       "         6: 8,\n",
       "         13: 1,\n",
       "         9: 1,\n",
       "         30: 1})"
      ]
     },
     "execution_count": 10,
     "metadata": {},
     "output_type": "execute_result"
    }
   ],
   "source": [
    "Counter(dict(degX).values())  # degree of users"
   ]
  },
  {
   "cell_type": "code",
   "execution_count": 11,
   "metadata": {},
   "outputs": [
    {
     "data": {
      "text/plain": [
       "Counter({77: 2,\n",
       "         35: 2,\n",
       "         19: 2,\n",
       "         45: 2,\n",
       "         135: 1,\n",
       "         9: 2,\n",
       "         20: 2,\n",
       "         6: 3,\n",
       "         14: 2,\n",
       "         2: 4,\n",
       "         191: 1,\n",
       "         410: 1,\n",
       "         160: 1,\n",
       "         288: 1,\n",
       "         338: 2,\n",
       "         34: 1,\n",
       "         427: 1,\n",
       "         93: 1,\n",
       "         26: 1,\n",
       "         24: 1,\n",
       "         417: 1,\n",
       "         471: 1,\n",
       "         116: 1,\n",
       "         233: 1,\n",
       "         25: 2,\n",
       "         58: 2,\n",
       "         7: 2,\n",
       "         243: 1,\n",
       "         95: 1,\n",
       "         217: 1,\n",
       "         15: 1,\n",
       "         31: 2,\n",
       "         278: 1,\n",
       "         111: 1,\n",
       "         64: 1,\n",
       "         302: 1,\n",
       "         3: 1,\n",
       "         113: 1,\n",
       "         282: 1,\n",
       "         396: 1,\n",
       "         348: 1,\n",
       "         23: 1,\n",
       "         255: 1,\n",
       "         132: 1,\n",
       "         325: 1,\n",
       "         297: 1,\n",
       "         298: 1,\n",
       "         4: 1,\n",
       "         442: 1,\n",
       "         8: 1,\n",
       "         12: 1,\n",
       "         73: 1,\n",
       "         5: 1,\n",
       "         174: 1,\n",
       "         432: 1,\n",
       "         134: 1,\n",
       "         1: 2,\n",
       "         80: 1,\n",
       "         188: 1,\n",
       "         16: 1,\n",
       "         13: 1,\n",
       "         147: 1,\n",
       "         97: 1,\n",
       "         159: 2,\n",
       "         11: 1,\n",
       "         213: 1,\n",
       "         33: 1,\n",
       "         446: 1,\n",
       "         430: 1,\n",
       "         48: 1,\n",
       "         143: 1,\n",
       "         226: 1,\n",
       "         37: 1,\n",
       "         121: 1,\n",
       "         397: 1,\n",
       "         185: 1,\n",
       "         102: 1,\n",
       "         133: 1,\n",
       "         60: 1,\n",
       "         28: 1,\n",
       "         409: 1})"
      ]
     },
     "execution_count": 11,
     "metadata": {},
     "output_type": "execute_result"
    }
   ],
   "source": [
    "Counter(dict(degY).values())  # degree of repos"
   ]
  },
  {
   "cell_type": "code",
   "execution_count": 8,
   "metadata": {},
   "outputs": [
    {
     "name": "stdout",
     "output_type": "stream",
     "text": [
      "False\n"
     ]
    },
    {
     "ename": "AmbiguousSolution",
     "evalue": "Disconnected graph: Ambiguous solution for bipartite sets.",
     "output_type": "error",
     "traceback": [
      "\u001b[1;31m---------------------------------------------------------------------------\u001b[0m",
      "\u001b[1;31mAmbiguousSolution\u001b[0m                         Traceback (most recent call last)",
      "Cell \u001b[1;32mIn[8], line 2\u001b[0m\n\u001b[0;32m      1\u001b[0m \u001b[38;5;28mprint\u001b[39m(nx\u001b[38;5;241m.\u001b[39mis_connected(B))\n\u001b[1;32m----> 2\u001b[0m bottom_nodes, top_nodes \u001b[38;5;241m=\u001b[39m \u001b[43mbipartite\u001b[49m\u001b[38;5;241;43m.\u001b[39;49m\u001b[43msets\u001b[49m\u001b[43m(\u001b[49m\u001b[43mB\u001b[49m\u001b[43m)\u001b[49m  \u001b[38;5;66;03m# if success, the graph is bipartite\u001b[39;00m\n",
      "File \u001b[1;32mc:\\Users\\User\\AppData\\Local\\Programs\\Python\\Python311\\Lib\\site-packages\\networkx\\algorithms\\bipartite\\basic.py:214\u001b[0m, in \u001b[0;36msets\u001b[1;34m(G, top_nodes)\u001b[0m\n\u001b[0;32m    212\u001b[0m \u001b[38;5;28;01mif\u001b[39;00m \u001b[38;5;129;01mnot\u001b[39;00m is_connected(G):\n\u001b[0;32m    213\u001b[0m     msg \u001b[38;5;241m=\u001b[39m \u001b[38;5;124m\"\u001b[39m\u001b[38;5;124mDisconnected graph: Ambiguous solution for bipartite sets.\u001b[39m\u001b[38;5;124m\"\u001b[39m\n\u001b[1;32m--> 214\u001b[0m     \u001b[38;5;28;01mraise\u001b[39;00m nx\u001b[38;5;241m.\u001b[39mAmbiguousSolution(msg)\n\u001b[0;32m    215\u001b[0m c \u001b[38;5;241m=\u001b[39m color(G)\n\u001b[0;32m    216\u001b[0m X \u001b[38;5;241m=\u001b[39m {n \u001b[38;5;28;01mfor\u001b[39;00m n, is_top \u001b[38;5;129;01min\u001b[39;00m c\u001b[38;5;241m.\u001b[39mitems() \u001b[38;5;28;01mif\u001b[39;00m is_top}\n",
      "\u001b[1;31mAmbiguousSolution\u001b[0m: Disconnected graph: Ambiguous solution for bipartite sets."
     ]
    }
   ],
   "source": [
    "print(nx.is_connected(B))\n",
    "bottom_nodes, top_nodes = bipartite.sets(B)  # if success, the graph is bipartite and connected"
   ]
  },
  {
   "cell_type": "code",
   "execution_count": 25,
   "metadata": {},
   "outputs": [],
   "source": [
    "A = bipartite.biadjacency_matrix(B, row_order=repos, column_order=users)"
   ]
  },
  {
   "cell_type": "code",
   "execution_count": 27,
   "metadata": {},
   "outputs": [
    {
     "data": {
      "text/plain": [
       "<100x412266 sparse array of type '<class 'numpy.intc'>'\n",
       "\twith 1908925 stored elements in Compressed Sparse Row format>"
      ]
     },
     "execution_count": 27,
     "metadata": {},
     "output_type": "execute_result"
    }
   ],
   "source": [
    "A"
   ]
  }
 ],
 "metadata": {
  "kernelspec": {
   "display_name": "Python 3",
   "language": "python",
   "name": "python3"
  },
  "language_info": {
   "codemirror_mode": {
    "name": "ipython",
    "version": 3
   },
   "file_extension": ".py",
   "mimetype": "text/x-python",
   "name": "python",
   "nbconvert_exporter": "python",
   "pygments_lexer": "ipython3",
   "version": "3.11.1"
  }
 },
 "nbformat": 4,
 "nbformat_minor": 2
}
